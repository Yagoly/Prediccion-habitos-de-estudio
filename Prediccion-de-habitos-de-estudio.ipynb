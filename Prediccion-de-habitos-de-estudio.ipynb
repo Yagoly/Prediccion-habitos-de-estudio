{
 "cells": [
  {
   "cell_type": "code",
   "execution_count": 1,
   "metadata": {},
   "outputs": [],
   "source": [
    "#Importamos las librerias\n",
    "import numpy as np\n",
    "import seaborn as sns\n",
    "import matplotlib.pyplot as plt\n",
    "import pandas as pd\n",
    "from pylab import *\n",
    "import missingno as msno\n",
    "from sklearn.preprocessing import LabelEncoder\n"
   ]
  },
  {
   "cell_type": "markdown",
   "metadata": {},
   "source": [
    "## Obtener información\n",
    "\n",
    "La información utilizada en este proyecto, fue conseguida de la base de datos histórica del servicio de orientación del CBT No.2 Lic. Carlos Pichardo, Tecámac y es un archivo csv.\n",
    "\n",
    "1. habitos_estudio.csv, este archivo contiene la información mostrada en df.columns\n"
   ]
  },
  {
   "cell_type": "code",
   "execution_count": 2,
   "metadata": {},
   "outputs": [],
   "source": [
    "#Obtenemos el dataset\n",
    "df= pd.read_csv(\"habitos_estudio.csv\")"
   ]
  },
  {
   "cell_type": "code",
   "execution_count": 3,
   "metadata": {},
   "outputs": [
    {
     "data": {
      "text/plain": [
       "Index(['GRUPO', 'CARRERA', 'AÑO', 'APELLIDO PATERNO', 'APELLIDO MATERNO',\n",
       "       'NOMBRE(S)', 'LUGAR DE NACIMIENTO ', 'FECHA DE NACIMIENTO', 'EDAD',\n",
       "       'SEXO', 'ESTATURA', 'PESO',\n",
       "       'IMC (ÍNDICE DE MASA CORPORAL) OBTEN EL DATO EN EL SIGUIENTE LINK  https://www.cdc.gov/healthyweight/spanish/bmi/calculator.html',\n",
       "       'ESTADO CIVIL', '¿TIENES HIJOS?', 'MUNICIPIO ', 'SITUACIÓN DEL PADRE',\n",
       "       '¿DÓNDE RADICA ACTUALMENTE TU PAPÁ?',\n",
       "       'ÚLTIMO GRADO DE ESTUDIOS CONCLUIDOS ', 'OCUPACIÓN ',\n",
       "       '¿LA CONDICIÓN DE SALUD DE TU PAPÁ PUEDE INFLUIR EN TU ASISTENCIA A LA ESCUELA?',\n",
       "       'SI TU RESPUESTA ES SI, EXPLICA ¿POR QUÉ?', 'SITUACIÓN DE LA MADRE',\n",
       "       '¿DÓNDE RADICA ACTUALMENTE TU MAMÁ?', 'ULTIMO GRADO DE ESTUDIOS',\n",
       "       'OCUPACIÓN',\n",
       "       '¿LA CONDICIÓN DE SALUD DE TU MAMÁ PUEDE INFLUIR EN TU ASISTENCIA A LA ESCUELA?',\n",
       "       'SI TU RESPUESTA ES SI, EXPLICA ¿POR QUÉ?.1',\n",
       "       '¿CUANTOS HERMANOS TIENES?', '¿QUE LUGAR OCUPAS?',\n",
       "       'ESTADO CIVIL DE LOS PADRES',\n",
       "       '¿CON QUIEN VIVES ACTUALMENTE? (FAMILIA NUCLEAR)',\n",
       "       '¿CÓMO CONSIDERAS QUE ES TU RELACIÓN CON TUS PADRES?',\n",
       "       '¿QUÉ TANTO SE TE DIFICULTA COMUNICARTE CON LOS DEMÁS?',\n",
       "       '¿ACTUALMENTE TRABAJAS?', '¿POR QUE RAZONES?',\n",
       "       'EN PROMEDIO, ¿CUAL ES EL INGRESO MENSUAL DE TU HOGAR?, INCLUYENDO LO QUE TU PERCIBES ',\n",
       "       '¿QUIENES APORTAN EL INGRESO FAMILIAR DE LA CASA?',\n",
       "       '¿CUANTAS PERSONAS DEPENDEN DEL INGRESO FAMILIAR?',\n",
       "       '¿CUENTAS CON ALGÚN TIPO DE BECA?',\n",
       "       '¿TIENES ALGÚN PROBLEMA DE SALUD DIAGNOSTICADO?',\n",
       "       'ESPECIFICA EL TIPO DE PROBLEMA', 'CONDICIÓN VISUAL DIAGNOSTICADA ',\n",
       "       'CONDICIÓN PSICOLÓGICA DIAGNOSTICADA',\n",
       "       'SI PRESENTAS ALGUNA DISCAPACIDAD DIAGNOSTICADA, ESPECIFICA CUÁL ',\n",
       "       '¿CON QUÉ MANO ESCRIBES?',\n",
       "       'ELIGE EL TIPO DE SERVICIO MEDICO CON EL QUE CUENTAS',\n",
       "       '¿CUAL FUE TU PROMEDIO GENERAL DE SECUNDARIA?',\n",
       "       '¿CUANTOS ACIERTOS OBTUVISTE EN TU EVALUACIÓN DEL COMIPEMS?',\n",
       "       '¿EN QUE OPCIÓN DEL COMIPEMS TE QUEDASTE?',\n",
       "       'ELIGE LAS ACTIVIDADES EXTRACURRICULARES EN LAS QUE HAS DESTACADO',\n",
       "       'ELIGE LAS HERRAMIENTAS CON LAS QUE CUENTAS EN CASA PARA TU DESEMPEÑO ACADÉMICO',\n",
       "       'DE ACUERDO AL CUESTIONARIO DE HONEY-ALONSO DE ESTILOS DE APRENDIZAJE',\n",
       "       'TEST PARA DETERMINAR EL CANAL DE APRENDIZAJE DE PREFERENCIA',\n",
       "       'PERFIL DE INTELIGENCIAS MULTIPLES', 'FUNCIONAMIENTO FAMILIAR',\n",
       "       'AUTOESTIMA', 'HABITOS DE ESTUDIO'],\n",
       "      dtype='object')"
      ]
     },
     "execution_count": 3,
     "metadata": {},
     "output_type": "execute_result"
    }
   ],
   "source": [
    "#Obtenemos las columnas del dataset\n",
    "df.columns"
   ]
  },
  {
   "cell_type": "code",
   "execution_count": 4,
   "metadata": {},
   "outputs": [],
   "source": [
    "#Renombramos las columnas\n",
    "df.columns=['Grupo', 'Carrera', \"Año\", \"Apellido_p\",\"Apellido_m\",\"Nombres\",\"Lugar_de_nacimiento\",\"Fecha_de_nacimiento\",\"Edad\"\n",
    "           ,\"Genero\",\"Estatura\", \"Peso\",\"IMC\",\"Estado_civil\",\"Hijos\",\"Municipio\" ,\"Situación_actual_p\",\"Donde_radica_p\"\n",
    "            ,\"Grado_estudios_p\",\"Ocupacion_p\",\"Condicion_p\",\"Explica_porque_p\",\"Situacion_m\",\"Residecia_m\",\"Grado_estudios_m\"\n",
    "            ,\"Ocupacion_m\",\"Condicion_m\",\"Por_que_m\",\"Número_hermanos\",\"Lugar_ocupa\",\"Estado_civil_padres\",\"Con_quien_vives\"\n",
    "            ,\"Relacion_padres\",\"Dificultades_comunicacion\",\"Trabajas\",\"Razones\",\"Ingreso_mensual\",\"Quienes_aportan_ingreso\"\n",
    "            ,\"Cuantos_dependen_ingreso\",\"Beca\",\"Problema_de_salud\",\"Cual\",\"Condicion_visual\",\"Condicion_psicologica\"\n",
    "            ,\"Discapacidad\",\"Mano_escribes\",\"Servicio_medico\",\"Promedio_secundaria\",\"Aciertos_comipems\",\"Opcion_comipems\"\n",
    "            ,\"Actividades_extracurriculares\",\"Equipo_de_computo\",\"Honey_alonso\",\"Canal_aprendizaje\",\"Inteligencias_multiples\"\n",
    "            ,\"Funcionamiento_familiar\",\"Autoestima\",\"Habitos_de_estudio\"]"
   ]
  },
  {
   "cell_type": "code",
   "execution_count": 5,
   "metadata": {},
   "outputs": [],
   "source": [
    "#Eliminamos las columnas que no son necesarias para este proyecto\n",
    "habitos=df.drop([\"Apellido_p\",\"Apellido_m\",\"Nombres\",\"Año\",\"Estado_civil\",\"Hijos\",\"Número_hermanos\",\"Lugar_ocupa\",\"Lugar_de_nacimiento\"\n",
    "                  ,\"Fecha_de_nacimiento\", \"Estatura\",\"Peso\", \"IMC\",\"Situación_actual_p\"\n",
    "                  , \"Donde_radica_p\", \"Condicion_p\",\"Explica_porque_p\", \"Situacion_m\", \"Residecia_m\", \"Condicion_m\"\n",
    "                 ,\"Por_que_m\", \"Relacion_padres\", \"Dificultades_comunicacion\", \"Razones\", \"Discapacidad\",\"Cual\"\n",
    "                  , \"Servicio_medico\",\"Estado_civil_padres\", \"Con_quien_vives\",\"Trabajas\", \"Quienes_aportan_ingreso\"\n",
    "                  ,\"Cuantos_dependen_ingreso\",\"Problema_de_salud\",\"Condicion_visual\",\"Condicion_psicologica\",\"Mano_escribes\"\n",
    "                  ,\"Actividades_extracurriculares\", \"Beca\", \"Inteligencias_multiples\"], axis=1)"
   ]
  },
  {
   "cell_type": "code",
   "execution_count": 6,
   "metadata": {},
   "outputs": [
    {
     "data": {
      "text/html": [
       "<div>\n",
       "<style scoped>\n",
       "    .dataframe tbody tr th:only-of-type {\n",
       "        vertical-align: middle;\n",
       "    }\n",
       "\n",
       "    .dataframe tbody tr th {\n",
       "        vertical-align: top;\n",
       "    }\n",
       "\n",
       "    .dataframe thead th {\n",
       "        text-align: right;\n",
       "    }\n",
       "</style>\n",
       "<table border=\"1\" class=\"dataframe\">\n",
       "  <thead>\n",
       "    <tr style=\"text-align: right;\">\n",
       "      <th></th>\n",
       "      <th>Grupo</th>\n",
       "      <th>Carrera</th>\n",
       "      <th>Edad</th>\n",
       "      <th>Genero</th>\n",
       "      <th>Municipio</th>\n",
       "      <th>Grado_estudios_p</th>\n",
       "      <th>Ocupacion_p</th>\n",
       "      <th>Grado_estudios_m</th>\n",
       "      <th>Ocupacion_m</th>\n",
       "      <th>Ingreso_mensual</th>\n",
       "      <th>Promedio_secundaria</th>\n",
       "      <th>Aciertos_comipems</th>\n",
       "      <th>Opcion_comipems</th>\n",
       "      <th>Equipo_de_computo</th>\n",
       "      <th>Honey_alonso</th>\n",
       "      <th>Canal_aprendizaje</th>\n",
       "      <th>Funcionamiento_familiar</th>\n",
       "      <th>Autoestima</th>\n",
       "      <th>Habitos_de_estudio</th>\n",
       "    </tr>\n",
       "  </thead>\n",
       "  <tbody>\n",
       "    <tr>\n",
       "      <th>0</th>\n",
       "      <td>105</td>\n",
       "      <td>DAC</td>\n",
       "      <td>14 AÑOS</td>\n",
       "      <td>MASCULINO</td>\n",
       "      <td>ECATEPEC</td>\n",
       "      <td>SECUNDARIA</td>\n",
       "      <td>NEGOCIO PROPIO</td>\n",
       "      <td>SECUNDARIA</td>\n",
       "      <td>SE DEDICA AL HOGAR</td>\n",
       "      <td>DE $10,000 A $14,999</td>\n",
       "      <td>7.4</td>\n",
       "      <td>71 A 90</td>\n",
       "      <td>SEGUNDA</td>\n",
       "      <td>EQUIPO DE COMPUTO, IMPRESORA E INTERNET</td>\n",
       "      <td>ESTILO PRAGMATICO</td>\n",
       "      <td>NaN</td>\n",
       "      <td>FUNCIONAL</td>\n",
       "      <td>NaN</td>\n",
       "      <td>NaN</td>\n",
       "    </tr>\n",
       "    <tr>\n",
       "      <th>1</th>\n",
       "      <td>105</td>\n",
       "      <td>DAC</td>\n",
       "      <td>15 AÑOS</td>\n",
       "      <td>MASCULINO</td>\n",
       "      <td>TEOTIHUACÁN</td>\n",
       "      <td>SECUNDARIA</td>\n",
       "      <td>NEGOCIO PROPIO</td>\n",
       "      <td>SECUNDARIA</td>\n",
       "      <td>NEGOCIO PROPIO</td>\n",
       "      <td>DE $5000 A $6999</td>\n",
       "      <td>7.2</td>\n",
       "      <td>71 A 90</td>\n",
       "      <td>PRIMERA</td>\n",
       "      <td>SOLO INTERNET</td>\n",
       "      <td>ESTILO REFLEXIVO</td>\n",
       "      <td>NaN</td>\n",
       "      <td>DISFUNCIONAL</td>\n",
       "      <td>NaN</td>\n",
       "      <td>NaN</td>\n",
       "    </tr>\n",
       "    <tr>\n",
       "      <th>2</th>\n",
       "      <td>105</td>\n",
       "      <td>DAC</td>\n",
       "      <td>14 AÑOS</td>\n",
       "      <td>MASCULINO</td>\n",
       "      <td>ZUMPANGO</td>\n",
       "      <td>SECUNDARIA</td>\n",
       "      <td>NaN</td>\n",
       "      <td>SECUNDARIA</td>\n",
       "      <td>EMPLEADA</td>\n",
       "      <td>DE $3000 A $4999</td>\n",
       "      <td>7.9</td>\n",
       "      <td>71 A 90</td>\n",
       "      <td>TERCERA</td>\n",
       "      <td>EQUIPO DE COMPUTO E INTERNET</td>\n",
       "      <td>ESTILO REFLEXIVO</td>\n",
       "      <td>NaN</td>\n",
       "      <td>DISFUNCIONAL</td>\n",
       "      <td>NaN</td>\n",
       "      <td>NaN</td>\n",
       "    </tr>\n",
       "    <tr>\n",
       "      <th>3</th>\n",
       "      <td>105</td>\n",
       "      <td>DAC</td>\n",
       "      <td>14 AÑOS</td>\n",
       "      <td>FEMENINO</td>\n",
       "      <td>TECÁMAC</td>\n",
       "      <td>CARRERA TÉCNICA</td>\n",
       "      <td>OFICIO (CARPINTERO, CAMPESINO, OBRERO, HERRERO...</td>\n",
       "      <td>CARRERA TECNICA</td>\n",
       "      <td>OFICIO (COSTURERA, OBRERA, COCINERA, ESTILISTA...</td>\n",
       "      <td>DE $10,000 A $14,999</td>\n",
       "      <td>9.4</td>\n",
       "      <td>71 A 90</td>\n",
       "      <td>SEGUNDA</td>\n",
       "      <td>EQUIPO DE COMPUTO E INTERNET</td>\n",
       "      <td>ESTILO REFLEXIVO</td>\n",
       "      <td>NaN</td>\n",
       "      <td>FUNCIONAL</td>\n",
       "      <td>NaN</td>\n",
       "      <td>NaN</td>\n",
       "    </tr>\n",
       "    <tr>\n",
       "      <th>4</th>\n",
       "      <td>105</td>\n",
       "      <td>DAC</td>\n",
       "      <td>14 AÑOS</td>\n",
       "      <td>FEMENINO</td>\n",
       "      <td>TECÁMAC</td>\n",
       "      <td>PREPARATORIA O BACHILLERATO</td>\n",
       "      <td>OFICIO (CARPINTERO, CAMPESINO, OBRERO, HERRERO...</td>\n",
       "      <td>PREPARATORIA O BACHILLERATO</td>\n",
       "      <td>EMPLEADA</td>\n",
       "      <td>DE $1000 A $2999</td>\n",
       "      <td>9.4</td>\n",
       "      <td>91 A 120</td>\n",
       "      <td>SEGUNDA</td>\n",
       "      <td>SOLO INTERNET</td>\n",
       "      <td>ESTILO ACTIVO</td>\n",
       "      <td>NaN</td>\n",
       "      <td>FUNCIONAL</td>\n",
       "      <td>NaN</td>\n",
       "      <td>NaN</td>\n",
       "    </tr>\n",
       "  </tbody>\n",
       "</table>\n",
       "</div>"
      ],
      "text/plain": [
       "   Grupo Carrera     Edad     Genero    Municipio  \\\n",
       "0    105     DAC  14 AÑOS  MASCULINO     ECATEPEC   \n",
       "1    105     DAC  15 AÑOS  MASCULINO  TEOTIHUACÁN   \n",
       "2    105     DAC  14 AÑOS  MASCULINO     ZUMPANGO   \n",
       "3    105     DAC  14 AÑOS   FEMENINO      TECÁMAC   \n",
       "4    105     DAC  14 AÑOS   FEMENINO      TECÁMAC   \n",
       "\n",
       "              Grado_estudios_p  \\\n",
       "0                   SECUNDARIA   \n",
       "1                   SECUNDARIA   \n",
       "2                   SECUNDARIA   \n",
       "3              CARRERA TÉCNICA   \n",
       "4  PREPARATORIA O BACHILLERATO   \n",
       "\n",
       "                                         Ocupacion_p  \\\n",
       "0                                     NEGOCIO PROPIO   \n",
       "1                                     NEGOCIO PROPIO   \n",
       "2                                                NaN   \n",
       "3  OFICIO (CARPINTERO, CAMPESINO, OBRERO, HERRERO...   \n",
       "4  OFICIO (CARPINTERO, CAMPESINO, OBRERO, HERRERO...   \n",
       "\n",
       "              Grado_estudios_m  \\\n",
       "0                   SECUNDARIA   \n",
       "1                   SECUNDARIA   \n",
       "2                   SECUNDARIA   \n",
       "3              CARRERA TECNICA   \n",
       "4  PREPARATORIA O BACHILLERATO   \n",
       "\n",
       "                                         Ocupacion_m       Ingreso_mensual  \\\n",
       "0                                 SE DEDICA AL HOGAR  DE $10,000 A $14,999   \n",
       "1                                     NEGOCIO PROPIO      DE $5000 A $6999   \n",
       "2                                           EMPLEADA      DE $3000 A $4999   \n",
       "3  OFICIO (COSTURERA, OBRERA, COCINERA, ESTILISTA...  DE $10,000 A $14,999   \n",
       "4                                           EMPLEADA      DE $1000 A $2999   \n",
       "\n",
       "  Promedio_secundaria Aciertos_comipems Opcion_comipems  \\\n",
       "0                 7.4           71 A 90         SEGUNDA   \n",
       "1                 7.2           71 A 90         PRIMERA   \n",
       "2                 7.9           71 A 90         TERCERA   \n",
       "3                 9.4           71 A 90         SEGUNDA   \n",
       "4                 9.4          91 A 120         SEGUNDA   \n",
       "\n",
       "                         Equipo_de_computo       Honey_alonso  \\\n",
       "0  EQUIPO DE COMPUTO, IMPRESORA E INTERNET  ESTILO PRAGMATICO   \n",
       "1                            SOLO INTERNET   ESTILO REFLEXIVO   \n",
       "2             EQUIPO DE COMPUTO E INTERNET   ESTILO REFLEXIVO   \n",
       "3             EQUIPO DE COMPUTO E INTERNET   ESTILO REFLEXIVO   \n",
       "4                            SOLO INTERNET      ESTILO ACTIVO   \n",
       "\n",
       "  Canal_aprendizaje Funcionamiento_familiar Autoestima Habitos_de_estudio  \n",
       "0               NaN               FUNCIONAL        NaN                NaN  \n",
       "1               NaN            DISFUNCIONAL        NaN                NaN  \n",
       "2               NaN            DISFUNCIONAL        NaN                NaN  \n",
       "3               NaN               FUNCIONAL        NaN                NaN  \n",
       "4               NaN               FUNCIONAL        NaN                NaN  "
      ]
     },
     "execution_count": 6,
     "metadata": {},
     "output_type": "execute_result"
    }
   ],
   "source": [
    "#Mostramos las primeras 5 columnas del dataset\n",
    "habitos.head(5)"
   ]
  },
  {
   "cell_type": "code",
   "execution_count": 7,
   "metadata": {},
   "outputs": [
    {
     "name": "stdout",
     "output_type": "stream",
     "text": [
      "<class 'pandas.core.frame.DataFrame'>\n",
      "RangeIndex: 1040 entries, 0 to 1039\n",
      "Data columns (total 19 columns):\n",
      " #   Column                   Non-Null Count  Dtype \n",
      "---  ------                   --------------  ----- \n",
      " 0   Grupo                    1040 non-null   int64 \n",
      " 1   Carrera                  1040 non-null   object\n",
      " 2   Edad                     1040 non-null   object\n",
      " 3   Genero                   1040 non-null   object\n",
      " 4   Municipio                1040 non-null   object\n",
      " 5   Grado_estudios_p         1039 non-null   object\n",
      " 6   Ocupacion_p              1034 non-null   object\n",
      " 7   Grado_estudios_m         1039 non-null   object\n",
      " 8   Ocupacion_m              1038 non-null   object\n",
      " 9   Ingreso_mensual          1039 non-null   object\n",
      " 10  Promedio_secundaria      891 non-null    object\n",
      " 11  Aciertos_comipems        890 non-null    object\n",
      " 12  Opcion_comipems          886 non-null    object\n",
      " 13  Equipo_de_computo        891 non-null    object\n",
      " 14  Honey_alonso             659 non-null    object\n",
      " 15  Canal_aprendizaje        589 non-null    object\n",
      " 16  Funcionamiento_familiar  434 non-null    object\n",
      " 17  Autoestima               521 non-null    object\n",
      " 18  Habitos_de_estudio       357 non-null    object\n",
      "dtypes: int64(1), object(18)\n",
      "memory usage: 154.5+ KB\n"
     ]
    }
   ],
   "source": [
    "#Mostramos la información del dataset\n",
    "habitos.info(verbose=True, null_counts=True)"
   ]
  },
  {
   "cell_type": "markdown",
   "metadata": {},
   "source": [
    "## Datos nulos"
   ]
  },
  {
   "cell_type": "code",
   "execution_count": 8,
   "metadata": {},
   "outputs": [
    {
     "data": {
      "text/plain": [
       "<AxesSubplot:>"
      ]
     },
     "execution_count": 8,
     "metadata": {},
     "output_type": "execute_result"
    },
    {
     "data": {
      "image/png": "[encoded data removed]",
      "text/plain": [
       "<Figure size 432x288 with 1 Axes>"
      ]
     },
     "metadata": {
      "needs_background": "light"
     },
     "output_type": "display_data"
    }
   ],
   "source": [
    "# Mostramos los datos nulos\n",
    "sns.heatmap(habitos.isnull(),cbar=False)"
   ]
  },
  {
   "cell_type": "code",
   "execution_count": 9,
   "metadata": {},
   "outputs": [
    {
     "data": {
      "text/html": [
       "<div>\n",
       "<style scoped>\n",
       "    .dataframe tbody tr th:only-of-type {\n",
       "        vertical-align: middle;\n",
       "    }\n",
       "\n",
       "    .dataframe tbody tr th {\n",
       "        vertical-align: top;\n",
       "    }\n",
       "\n",
       "    .dataframe thead th {\n",
       "        text-align: right;\n",
       "    }\n",
       "</style>\n",
       "<table border=\"1\" class=\"dataframe\">\n",
       "  <thead>\n",
       "    <tr style=\"text-align: right;\">\n",
       "      <th></th>\n",
       "      <th>index</th>\n",
       "      <th>0_Valores Nulos</th>\n",
       "      <th>0_Porcentaje de valores nulos</th>\n",
       "    </tr>\n",
       "  </thead>\n",
       "  <tbody>\n",
       "    <tr>\n",
       "      <th>0</th>\n",
       "      <td>Grupo</td>\n",
       "      <td>0</td>\n",
       "      <td>0.00</td>\n",
       "    </tr>\n",
       "    <tr>\n",
       "      <th>1</th>\n",
       "      <td>Carrera</td>\n",
       "      <td>0</td>\n",
       "      <td>0.00</td>\n",
       "    </tr>\n",
       "    <tr>\n",
       "      <th>2</th>\n",
       "      <td>Edad</td>\n",
       "      <td>0</td>\n",
       "      <td>0.00</td>\n",
       "    </tr>\n",
       "    <tr>\n",
       "      <th>3</th>\n",
       "      <td>Genero</td>\n",
       "      <td>0</td>\n",
       "      <td>0.00</td>\n",
       "    </tr>\n",
       "    <tr>\n",
       "      <th>4</th>\n",
       "      <td>Municipio</td>\n",
       "      <td>0</td>\n",
       "      <td>0.00</td>\n",
       "    </tr>\n",
       "    <tr>\n",
       "      <th>5</th>\n",
       "      <td>Grado_estudios_p</td>\n",
       "      <td>1</td>\n",
       "      <td>0.10</td>\n",
       "    </tr>\n",
       "    <tr>\n",
       "      <th>6</th>\n",
       "      <td>Ocupacion_p</td>\n",
       "      <td>6</td>\n",
       "      <td>0.58</td>\n",
       "    </tr>\n",
       "    <tr>\n",
       "      <th>7</th>\n",
       "      <td>Grado_estudios_m</td>\n",
       "      <td>1</td>\n",
       "      <td>0.10</td>\n",
       "    </tr>\n",
       "    <tr>\n",
       "      <th>8</th>\n",
       "      <td>Ocupacion_m</td>\n",
       "      <td>2</td>\n",
       "      <td>0.19</td>\n",
       "    </tr>\n",
       "    <tr>\n",
       "      <th>9</th>\n",
       "      <td>Ingreso_mensual</td>\n",
       "      <td>1</td>\n",
       "      <td>0.10</td>\n",
       "    </tr>\n",
       "    <tr>\n",
       "      <th>10</th>\n",
       "      <td>Promedio_secundaria</td>\n",
       "      <td>149</td>\n",
       "      <td>14.33</td>\n",
       "    </tr>\n",
       "    <tr>\n",
       "      <th>11</th>\n",
       "      <td>Aciertos_comipems</td>\n",
       "      <td>150</td>\n",
       "      <td>14.42</td>\n",
       "    </tr>\n",
       "    <tr>\n",
       "      <th>12</th>\n",
       "      <td>Opcion_comipems</td>\n",
       "      <td>154</td>\n",
       "      <td>14.81</td>\n",
       "    </tr>\n",
       "    <tr>\n",
       "      <th>13</th>\n",
       "      <td>Equipo_de_computo</td>\n",
       "      <td>149</td>\n",
       "      <td>14.33</td>\n",
       "    </tr>\n",
       "    <tr>\n",
       "      <th>14</th>\n",
       "      <td>Honey_alonso</td>\n",
       "      <td>381</td>\n",
       "      <td>36.63</td>\n",
       "    </tr>\n",
       "    <tr>\n",
       "      <th>15</th>\n",
       "      <td>Canal_aprendizaje</td>\n",
       "      <td>451</td>\n",
       "      <td>43.37</td>\n",
       "    </tr>\n",
       "    <tr>\n",
       "      <th>16</th>\n",
       "      <td>Funcionamiento_familiar</td>\n",
       "      <td>606</td>\n",
       "      <td>58.27</td>\n",
       "    </tr>\n",
       "    <tr>\n",
       "      <th>17</th>\n",
       "      <td>Autoestima</td>\n",
       "      <td>519</td>\n",
       "      <td>49.90</td>\n",
       "    </tr>\n",
       "    <tr>\n",
       "      <th>18</th>\n",
       "      <td>Habitos_de_estudio</td>\n",
       "      <td>683</td>\n",
       "      <td>65.67</td>\n",
       "    </tr>\n",
       "  </tbody>\n",
       "</table>\n",
       "</div>"
      ],
      "text/plain": [
       "                      index  0_Valores Nulos  0_Porcentaje de valores nulos\n",
       "0                     Grupo                0                           0.00\n",
       "1                   Carrera                0                           0.00\n",
       "2                      Edad                0                           0.00\n",
       "3                    Genero                0                           0.00\n",
       "4                 Municipio                0                           0.00\n",
       "5          Grado_estudios_p                1                           0.10\n",
       "6               Ocupacion_p                6                           0.58\n",
       "7          Grado_estudios_m                1                           0.10\n",
       "8               Ocupacion_m                2                           0.19\n",
       "9           Ingreso_mensual                1                           0.10\n",
       "10      Promedio_secundaria              149                          14.33\n",
       "11        Aciertos_comipems              150                          14.42\n",
       "12          Opcion_comipems              154                          14.81\n",
       "13        Equipo_de_computo              149                          14.33\n",
       "14             Honey_alonso              381                          36.63\n",
       "15        Canal_aprendizaje              451                          43.37\n",
       "16  Funcionamiento_familiar              606                          58.27\n",
       "17               Autoestima              519                          49.90\n",
       "18       Habitos_de_estudio              683                          65.67"
      ]
     },
     "execution_count": 9,
     "metadata": {},
     "output_type": "execute_result"
    }
   ],
   "source": [
    "#Número de datos nulos y su porcentaje en las columnas\n",
    "porcentaje_nulos= habitos.isnull().mean().round(4)*100\n",
    "pd.merge(habitos.isnull().sum().reset_index(),porcentaje_nulos.reset_index(), how=\"inner\", on=\"index\", suffixes=(\"_Valores Nulos\", \"_Porcentaje de valores nulos\"))"
   ]
  },
  {
   "cell_type": "markdown",
   "metadata": {},
   "source": [
    "Dentro de los datos faltantes con un menor porcentaje son: Grado_estudios_m 0.096%, Ocupación_p 5.6%, Grado_estudios_m 0.096%\n",
    "Ocupación_m 0.192% Ingreso_mensual 0.096% por lo que dichos datos fueron eliminados, para facilitar su analisis.\n",
    "Las columnas que resultan de gran importancia para este estudio son Promedio_secundaria, Inteligencias_multiples, Aciertos comipems, Honey Alonso, Canal_de aprendizaje, habitos de estudio y las columnas que resultan importantes en un segundo plano son: Equipo_de_computo, Oción_comipems, Autoestima y funcionamiento familiar. Por lo que será necesario determinar si estas variables resultan significativas para la predicción del rendimiento escolar.\n",
    "En el caso de las variables de primer orden por ser de gran importancia, se autorrellenaran los valores nulos con el promedio obtenido."
   ]
  },
  {
   "cell_type": "code",
   "execution_count": 10,
   "metadata": {},
   "outputs": [
    {
     "data": {
      "text/plain": [
       "(1038, 19)"
      ]
     },
     "execution_count": 10,
     "metadata": {},
     "output_type": "execute_result"
    }
   ],
   "source": [
    "#Eliminamos los datos nulos en el dataset que no resultan relevantes\n",
    "habitos.drop(habitos[habitos.Ingreso_mensual.isnull()].index,inplace=True)\n",
    "habitos.drop(habitos[habitos.Grado_estudios_m.isnull()].index,inplace=True)\n",
    "habitos.drop(habitos[habitos.Grado_estudios_p.isnull()].index,inplace=True)\n",
    "habitos.drop(habitos[habitos.Ocupacion_m.isnull()].index,inplace=True)\n",
    "habitos.shape"
   ]
  },
  {
   "cell_type": "code",
   "execution_count": 11,
   "metadata": {},
   "outputs": [
    {
     "data": {
      "text/plain": [
       "Grupo                        0\n",
       "Ocupacion_m                  0\n",
       "Grado_estudios_m             0\n",
       "Grado_estudios_p             0\n",
       "Ingreso_mensual              0\n",
       "Genero                       0\n",
       "Edad                         0\n",
       "Carrera                      0\n",
       "Municipio                    0\n",
       "Ocupacion_p                  5\n",
       "Promedio_secundaria        148\n",
       "Equipo_de_computo          148\n",
       "Aciertos_comipems          149\n",
       "Opcion_comipems            153\n",
       "Honey_alonso               380\n",
       "Canal_aprendizaje          449\n",
       "Autoestima                 517\n",
       "Funcionamiento_familiar    604\n",
       "Habitos_de_estudio         681\n",
       "dtype: int64"
      ]
     },
     "execution_count": 11,
     "metadata": {},
     "output_type": "execute_result"
    }
   ],
   "source": [
    "#Mostramos nuevamente la información del dataset\n",
    "habitos.isna().sum().sort_values()"
   ]
  },
  {
   "cell_type": "code",
   "execution_count": 12,
   "metadata": {},
   "outputs": [
    {
     "data": {
      "text/plain": [
       "<AxesSubplot:>"
      ]
     },
     "execution_count": 12,
     "metadata": {},
     "output_type": "execute_result"
    },
    {
     "data": {
      "image/png": "[encoded data removed]",
      "text/plain": [
       "<Figure size 1800x720 with 3 Axes>"
      ]
     },
     "metadata": {
      "needs_background": "light"
     },
     "output_type": "display_data"
    }
   ],
   "source": [
    "msno.bar(habitos)"
   ]
  },
  {
   "cell_type": "code",
   "execution_count": 13,
   "metadata": {},
   "outputs": [
    {
     "data": {
      "text/plain": [
       "<AxesSubplot:>"
      ]
     },
     "execution_count": 13,
     "metadata": {},
     "output_type": "execute_result"
    },
    {
     "data": {
      "image/png": "[encoded data removed]",
      "text/plain": [
       "<Figure size 1440x864 with 2 Axes>"
      ]
     },
     "metadata": {
      "needs_background": "light"
     },
     "output_type": "display_data"
    }
   ],
   "source": [
    "# Resulta más intuitivo ver la matriz de correlación a través de un gráfico -heatmap \n",
    "#Definimos la correlación\n",
    "msno.heatmap(habitos)\n"
   ]
  },
  {
   "cell_type": "code",
   "execution_count": 14,
   "metadata": {},
   "outputs": [
    {
     "data": {
      "text/plain": [
       "array([105, 106, 107, 108, 109, 110, 111, 112, 113], dtype=int64)"
      ]
     },
     "execution_count": 14,
     "metadata": {},
     "output_type": "execute_result"
    }
   ],
   "source": [
    "habitos[\"Grupo\"].unique()"
   ]
  },
  {
   "cell_type": "code",
   "execution_count": 15,
   "metadata": {},
   "outputs": [
    {
     "data": {
      "text/html": [
       "<div>\n",
       "<style scoped>\n",
       "    .dataframe tbody tr th:only-of-type {\n",
       "        vertical-align: middle;\n",
       "    }\n",
       "\n",
       "    .dataframe tbody tr th {\n",
       "        vertical-align: top;\n",
       "    }\n",
       "\n",
       "    .dataframe thead th {\n",
       "        text-align: right;\n",
       "    }\n",
       "</style>\n",
       "<table border=\"1\" class=\"dataframe\">\n",
       "  <thead>\n",
       "    <tr style=\"text-align: right;\">\n",
       "      <th></th>\n",
       "      <th>Grupo</th>\n",
       "      <th>frecuency</th>\n",
       "    </tr>\n",
       "  </thead>\n",
       "  <tbody>\n",
       "    <tr>\n",
       "      <th>0</th>\n",
       "      <td>105</td>\n",
       "      <td>214</td>\n",
       "    </tr>\n",
       "    <tr>\n",
       "      <th>1</th>\n",
       "      <td>106</td>\n",
       "      <td>173</td>\n",
       "    </tr>\n",
       "    <tr>\n",
       "      <th>2</th>\n",
       "      <td>107</td>\n",
       "      <td>165</td>\n",
       "    </tr>\n",
       "    <tr>\n",
       "      <th>3</th>\n",
       "      <td>108</td>\n",
       "      <td>153</td>\n",
       "    </tr>\n",
       "    <tr>\n",
       "      <th>4</th>\n",
       "      <td>109</td>\n",
       "      <td>104</td>\n",
       "    </tr>\n",
       "    <tr>\n",
       "      <th>5</th>\n",
       "      <td>110</td>\n",
       "      <td>53</td>\n",
       "    </tr>\n",
       "    <tr>\n",
       "      <th>6</th>\n",
       "      <td>111</td>\n",
       "      <td>41</td>\n",
       "    </tr>\n",
       "    <tr>\n",
       "      <th>7</th>\n",
       "      <td>112</td>\n",
       "      <td>87</td>\n",
       "    </tr>\n",
       "    <tr>\n",
       "      <th>8</th>\n",
       "      <td>113</td>\n",
       "      <td>48</td>\n",
       "    </tr>\n",
       "  </tbody>\n",
       "</table>\n",
       "</div>"
      ],
      "text/plain": [
       "   Grupo  frecuency\n",
       "0    105        214\n",
       "1    106        173\n",
       "2    107        165\n",
       "3    108        153\n",
       "4    109        104\n",
       "5    110         53\n",
       "6    111         41\n",
       "7    112         87\n",
       "8    113         48"
      ]
     },
     "execution_count": 15,
     "metadata": {},
     "output_type": "execute_result"
    }
   ],
   "source": [
    "freq_grupo = (habitos.groupby(\"Grupo\").agg(frecuency=(\"Grupo\", \"count\")).reset_index())\n",
    "freq_grupo"
   ]
  },
  {
   "cell_type": "code",
   "execution_count": 16,
   "metadata": {},
   "outputs": [
    {
     "data": {
      "image/png": "[encoded data removed]",
      "text/plain": [
       "<Figure size 432x288 with 1 Axes>"
      ]
     },
     "metadata": {
      "needs_background": "light"
     },
     "output_type": "display_data"
    }
   ],
   "source": [
    "plot=habitos[\"Grupo\"].value_counts().plot(kind=\"bar\",title=\"Grupo\")"
   ]
  },
  {
   "cell_type": "code",
   "execution_count": 17,
   "metadata": {},
   "outputs": [
    {
     "data": {
      "text/plain": [
       "array(['DAC', 'IF', 'ID'], dtype=object)"
      ]
     },
     "execution_count": 17,
     "metadata": {},
     "output_type": "execute_result"
    }
   ],
   "source": [
    "habitos[\"Carrera\"].unique()"
   ]
  },
  {
   "cell_type": "code",
   "execution_count": 18,
   "metadata": {},
   "outputs": [
    {
     "data": {
      "text/html": [
       "<div>\n",
       "<style scoped>\n",
       "    .dataframe tbody tr th:only-of-type {\n",
       "        vertical-align: middle;\n",
       "    }\n",
       "\n",
       "    .dataframe tbody tr th {\n",
       "        vertical-align: top;\n",
       "    }\n",
       "\n",
       "    .dataframe thead th {\n",
       "        text-align: right;\n",
       "    }\n",
       "</style>\n",
       "<table border=\"1\" class=\"dataframe\">\n",
       "  <thead>\n",
       "    <tr style=\"text-align: right;\">\n",
       "      <th></th>\n",
       "      <th>Carrera</th>\n",
       "      <th>frecuency</th>\n",
       "    </tr>\n",
       "  </thead>\n",
       "  <tbody>\n",
       "    <tr>\n",
       "      <th>0</th>\n",
       "      <td>DAC</td>\n",
       "      <td>387</td>\n",
       "    </tr>\n",
       "    <tr>\n",
       "      <th>1</th>\n",
       "      <td>ID</td>\n",
       "      <td>176</td>\n",
       "    </tr>\n",
       "    <tr>\n",
       "      <th>2</th>\n",
       "      <td>IF</td>\n",
       "      <td>475</td>\n",
       "    </tr>\n",
       "  </tbody>\n",
       "</table>\n",
       "</div>"
      ],
      "text/plain": [
       "  Carrera  frecuency\n",
       "0     DAC        387\n",
       "1      ID        176\n",
       "2      IF        475"
      ]
     },
     "execution_count": 18,
     "metadata": {},
     "output_type": "execute_result"
    }
   ],
   "source": [
    "freq_carrera = (habitos.groupby(\"Carrera\").agg(frecuency=(\"Carrera\", \"count\")).reset_index())\n",
    "freq_carrera"
   ]
  },
  {
   "cell_type": "code",
   "execution_count": 19,
   "metadata": {},
   "outputs": [
    {
     "data": {
      "image/png": "[encoded data removed]",
      "text/plain": [
       "<Figure size 432x288 with 1 Axes>"
      ]
     },
     "metadata": {
      "needs_background": "light"
     },
     "output_type": "display_data"
    }
   ],
   "source": [
    "plot=habitos[\"Carrera\"].value_counts().plot(kind=\"bar\",title=\"Carrera\")"
   ]
  },
  {
   "cell_type": "code",
   "execution_count": 20,
   "metadata": {},
   "outputs": [
    {
     "data": {
      "text/plain": [
       "array(['14 AÑOS', '15 AÑOS', '17 AÑOS', '16 AÑOS', '19 AÑOS', '13 AÑOS',\n",
       "       '15 AÑOS ', '14 AÑOS.'], dtype=object)"
      ]
     },
     "execution_count": 20,
     "metadata": {},
     "output_type": "execute_result"
    }
   ],
   "source": [
    "habitos[\"Edad\"].unique()"
   ]
  },
  {
   "cell_type": "code",
   "execution_count": 21,
   "metadata": {},
   "outputs": [
    {
     "name": "stdout",
     "output_type": "stream",
     "text": [
      "0       14\n",
      "1       15\n",
      "2       14\n",
      "3       14\n",
      "4       14\n",
      "        ..\n",
      "1035    15\n",
      "1036    16\n",
      "1037    16\n",
      "1038    15\n",
      "1039    16\n",
      "Name: Edad, Length: 1038, dtype: object\n"
     ]
    }
   ],
   "source": [
    "habitos[\"Edad\"] = habitos[\"Edad\"].str.extract(\"(\\d+)\", expand=False) #estoy diciendole al programa que a la columna edad le quite todo lo que no sea numérico\n",
    "print(habitos[\"Edad\"])"
   ]
  },
  {
   "cell_type": "code",
   "execution_count": 22,
   "metadata": {},
   "outputs": [
    {
     "data": {
      "text/plain": [
       "array(['14', '15', '17', '16', '19', '13'], dtype=object)"
      ]
     },
     "execution_count": 22,
     "metadata": {},
     "output_type": "execute_result"
    }
   ],
   "source": [
    "habitos[\"Edad\"].unique()"
   ]
  },
  {
   "cell_type": "code",
   "execution_count": 23,
   "metadata": {},
   "outputs": [
    {
     "data": {
      "text/html": [
       "<div>\n",
       "<style scoped>\n",
       "    .dataframe tbody tr th:only-of-type {\n",
       "        vertical-align: middle;\n",
       "    }\n",
       "\n",
       "    .dataframe tbody tr th {\n",
       "        vertical-align: top;\n",
       "    }\n",
       "\n",
       "    .dataframe thead th {\n",
       "        text-align: right;\n",
       "    }\n",
       "</style>\n",
       "<table border=\"1\" class=\"dataframe\">\n",
       "  <thead>\n",
       "    <tr style=\"text-align: right;\">\n",
       "      <th></th>\n",
       "      <th>Edad</th>\n",
       "      <th>frecuency</th>\n",
       "    </tr>\n",
       "  </thead>\n",
       "  <tbody>\n",
       "    <tr>\n",
       "      <th>0</th>\n",
       "      <td>13</td>\n",
       "      <td>56</td>\n",
       "    </tr>\n",
       "    <tr>\n",
       "      <th>1</th>\n",
       "      <td>14</td>\n",
       "      <td>371</td>\n",
       "    </tr>\n",
       "    <tr>\n",
       "      <th>2</th>\n",
       "      <td>15</td>\n",
       "      <td>558</td>\n",
       "    </tr>\n",
       "    <tr>\n",
       "      <th>3</th>\n",
       "      <td>16</td>\n",
       "      <td>43</td>\n",
       "    </tr>\n",
       "    <tr>\n",
       "      <th>4</th>\n",
       "      <td>17</td>\n",
       "      <td>9</td>\n",
       "    </tr>\n",
       "    <tr>\n",
       "      <th>5</th>\n",
       "      <td>19</td>\n",
       "      <td>1</td>\n",
       "    </tr>\n",
       "  </tbody>\n",
       "</table>\n",
       "</div>"
      ],
      "text/plain": [
       "  Edad  frecuency\n",
       "0   13         56\n",
       "1   14        371\n",
       "2   15        558\n",
       "3   16         43\n",
       "4   17          9\n",
       "5   19          1"
      ]
     },
     "execution_count": 23,
     "metadata": {},
     "output_type": "execute_result"
    }
   ],
   "source": [
    "freq_edad = (habitos.groupby(\"Edad\").agg(frecuency=(\"Edad\", \"count\")).reset_index())\n",
    "freq_edad"
   ]
  },
  {
   "cell_type": "code",
   "execution_count": 24,
   "metadata": {},
   "outputs": [
    {
     "data": {
      "image/png": "[encoded data removed]",
      "text/plain": [
       "<Figure size 432x288 with 1 Axes>"
      ]
     },
     "metadata": {
      "needs_background": "light"
     },
     "output_type": "display_data"
    }
   ],
   "source": [
    "plot=habitos[\"Edad\"].value_counts().plot(kind=\"bar\",title=\"Edado\")"
   ]
  },
  {
   "cell_type": "code",
   "execution_count": 25,
   "metadata": {},
   "outputs": [
    {
     "data": {
      "text/plain": [
       "array(['MASCULINO', 'FEMENINO'], dtype=object)"
      ]
     },
     "execution_count": 25,
     "metadata": {},
     "output_type": "execute_result"
    }
   ],
   "source": [
    "habitos[\"Genero\"].unique()"
   ]
  },
  {
   "cell_type": "code",
   "execution_count": 26,
   "metadata": {},
   "outputs": [
    {
     "data": {
      "text/html": [
       "<div>\n",
       "<style scoped>\n",
       "    .dataframe tbody tr th:only-of-type {\n",
       "        vertical-align: middle;\n",
       "    }\n",
       "\n",
       "    .dataframe tbody tr th {\n",
       "        vertical-align: top;\n",
       "    }\n",
       "\n",
       "    .dataframe thead th {\n",
       "        text-align: right;\n",
       "    }\n",
       "</style>\n",
       "<table border=\"1\" class=\"dataframe\">\n",
       "  <thead>\n",
       "    <tr style=\"text-align: right;\">\n",
       "      <th></th>\n",
       "      <th>Genero</th>\n",
       "      <th>frecuency</th>\n",
       "    </tr>\n",
       "  </thead>\n",
       "  <tbody>\n",
       "    <tr>\n",
       "      <th>0</th>\n",
       "      <td>FEMENINO</td>\n",
       "      <td>453</td>\n",
       "    </tr>\n",
       "    <tr>\n",
       "      <th>1</th>\n",
       "      <td>MASCULINO</td>\n",
       "      <td>585</td>\n",
       "    </tr>\n",
       "  </tbody>\n",
       "</table>\n",
       "</div>"
      ],
      "text/plain": [
       "      Genero  frecuency\n",
       "0   FEMENINO        453\n",
       "1  MASCULINO        585"
      ]
     },
     "execution_count": 26,
     "metadata": {},
     "output_type": "execute_result"
    }
   ],
   "source": [
    "freq_genero = (habitos.groupby(\"Genero\").agg(frecuency=(\"Genero\", \"count\")).reset_index())\n",
    "freq_genero"
   ]
  },
  {
   "cell_type": "code",
   "execution_count": 27,
   "metadata": {},
   "outputs": [
    {
     "data": {
      "image/png": "[encoded data removed]",
      "text/plain": [
       "<Figure size 432x288 with 1 Axes>"
      ]
     },
     "metadata": {
      "needs_background": "light"
     },
     "output_type": "display_data"
    }
   ],
   "source": [
    "plot=habitos[\"Genero\"].value_counts().plot(kind=\"bar\",title=\"Genero\")"
   ]
  },
  {
   "cell_type": "code",
   "execution_count": 28,
   "metadata": {},
   "outputs": [
    {
     "data": {
      "text/plain": [
       "array(['ECATEPEC', 'TEOTIHUACÁN', 'ZUMPANGO', 'TECÁMAC', 'TEMASCALAPA',\n",
       "       'ACOLMAN', 'HUEYPOXTLA', 'TIZAYUCA', 'OTRO', 'TEOTIHUACAN',\n",
       "       'NEXTLALPAN', 'Teotihuacán', 'CIUDAD DE MÉXICO', 'Otumba',\n",
       "       'TEZOYUCA', 'Santa Maria Tonanitla', 'SAN MARTIN DE LAS PIRAMIDES',\n",
       "       'COACALCO', 'Hueypoxtla'], dtype=object)"
      ]
     },
     "execution_count": 28,
     "metadata": {},
     "output_type": "execute_result"
    }
   ],
   "source": [
    "habitos[\"Municipio\"].unique()"
   ]
  },
  {
   "cell_type": "code",
   "execution_count": 29,
   "metadata": {},
   "outputs": [],
   "source": [
    "habitos[\"Municipio\"]=habitos[\"Municipio\"].replace([\"TEOTIHUACÁN\",\"Teotihuacán\", \"SAN MARTIN DE LAS PIRAMIDES\"],\"TEOTIHUACAN\")\n",
    "habitos[\"Municipio\"]=habitos[\"Municipio\"].replace([\"Santa Maria Tonanitla\", \"COACALCO\", \"NEXTLALPAN\", \"OTUMBA\", \"TEZOYUCA\", \"ACOLMAN\", \"CIUDAD DE MÉXICO\"],\"OTRO\")\n",
    "habitos[\"Municipio\"]=habitos[\"Municipio\"].str.upper()"
   ]
  },
  {
   "cell_type": "code",
   "execution_count": 30,
   "metadata": {},
   "outputs": [
    {
     "data": {
      "text/plain": [
       "array(['ECATEPEC', 'TEOTIHUACAN', 'ZUMPANGO', 'TECÁMAC', 'TEMASCALAPA',\n",
       "       'OTRO', 'HUEYPOXTLA', 'TIZAYUCA', 'OTUMBA'], dtype=object)"
      ]
     },
     "execution_count": 30,
     "metadata": {},
     "output_type": "execute_result"
    }
   ],
   "source": [
    "habitos[\"Municipio\"].unique()"
   ]
  },
  {
   "cell_type": "code",
   "execution_count": 31,
   "metadata": {},
   "outputs": [
    {
     "data": {
      "text/html": [
       "<div>\n",
       "<style scoped>\n",
       "    .dataframe tbody tr th:only-of-type {\n",
       "        vertical-align: middle;\n",
       "    }\n",
       "\n",
       "    .dataframe tbody tr th {\n",
       "        vertical-align: top;\n",
       "    }\n",
       "\n",
       "    .dataframe thead th {\n",
       "        text-align: right;\n",
       "    }\n",
       "</style>\n",
       "<table border=\"1\" class=\"dataframe\">\n",
       "  <thead>\n",
       "    <tr style=\"text-align: right;\">\n",
       "      <th></th>\n",
       "      <th>Municipio</th>\n",
       "      <th>frecuency</th>\n",
       "    </tr>\n",
       "  </thead>\n",
       "  <tbody>\n",
       "    <tr>\n",
       "      <th>0</th>\n",
       "      <td>ECATEPEC</td>\n",
       "      <td>47</td>\n",
       "    </tr>\n",
       "    <tr>\n",
       "      <th>1</th>\n",
       "      <td>HUEYPOXTLA</td>\n",
       "      <td>28</td>\n",
       "    </tr>\n",
       "    <tr>\n",
       "      <th>2</th>\n",
       "      <td>OTRO</td>\n",
       "      <td>21</td>\n",
       "    </tr>\n",
       "    <tr>\n",
       "      <th>3</th>\n",
       "      <td>OTUMBA</td>\n",
       "      <td>1</td>\n",
       "    </tr>\n",
       "    <tr>\n",
       "      <th>4</th>\n",
       "      <td>TECÁMAC</td>\n",
       "      <td>654</td>\n",
       "    </tr>\n",
       "    <tr>\n",
       "      <th>5</th>\n",
       "      <td>TEMASCALAPA</td>\n",
       "      <td>31</td>\n",
       "    </tr>\n",
       "    <tr>\n",
       "      <th>6</th>\n",
       "      <td>TEOTIHUACAN</td>\n",
       "      <td>12</td>\n",
       "    </tr>\n",
       "    <tr>\n",
       "      <th>7</th>\n",
       "      <td>TIZAYUCA</td>\n",
       "      <td>26</td>\n",
       "    </tr>\n",
       "    <tr>\n",
       "      <th>8</th>\n",
       "      <td>ZUMPANGO</td>\n",
       "      <td>218</td>\n",
       "    </tr>\n",
       "  </tbody>\n",
       "</table>\n",
       "</div>"
      ],
      "text/plain": [
       "     Municipio  frecuency\n",
       "0     ECATEPEC         47\n",
       "1   HUEYPOXTLA         28\n",
       "2         OTRO         21\n",
       "3       OTUMBA          1\n",
       "4      TECÁMAC        654\n",
       "5  TEMASCALAPA         31\n",
       "6  TEOTIHUACAN         12\n",
       "7     TIZAYUCA         26\n",
       "8     ZUMPANGO        218"
      ]
     },
     "execution_count": 31,
     "metadata": {},
     "output_type": "execute_result"
    }
   ],
   "source": [
    "freq_municipio = (habitos.groupby(\"Municipio\").agg(frecuency=(\"Municipio\", \"count\")).reset_index())\n",
    "freq_municipio"
   ]
  },
  {
   "cell_type": "code",
   "execution_count": 32,
   "metadata": {},
   "outputs": [
    {
     "data": {
      "image/png": "[encoded data removed]",
      "text/plain": [
       "<Figure size 432x288 with 1 Axes>"
      ]
     },
     "metadata": {
      "needs_background": "light"
     },
     "output_type": "display_data"
    }
   ],
   "source": [
    "plot=habitos[\"Municipio\"].value_counts().plot(kind=\"bar\",title=\"Municipio\")"
   ]
  },
  {
   "cell_type": "code",
   "execution_count": 33,
   "metadata": {},
   "outputs": [
    {
     "data": {
      "text/plain": [
       "array(['SECUNDARIA', 'CARRERA TÉCNICA', 'PREPARATORIA O BACHILLERATO',\n",
       "       'MAESTRIA', 'LICENCIATURA, INGENIERÍA O ESCUELA NORMAL',\n",
       "       'SIN ESTUDIOS', 'PRIMARIA', 'LICENCIATURA, INGENIERÍA O NORMAL',\n",
       "       'PREPARATORIA O BACHILLERATO INCOMPLETO', 'SECUNDARIA INCOMPLETA',\n",
       "       'SUPERIOR INCOMPLETA', 'MAESTRÍA', 'DOCTORADO',\n",
       "       'PRIMARIA INCOMPLETA', 'CARRERA TÉCNICA INCOMPLETA',\n",
       "       'ESTUDIOS SUPERIORES INCOMPLETOS'], dtype=object)"
      ]
     },
     "execution_count": 33,
     "metadata": {},
     "output_type": "execute_result"
    }
   ],
   "source": [
    "habitos[\"Grado_estudios_p\"].unique()"
   ]
  },
  {
   "cell_type": "code",
   "execution_count": 34,
   "metadata": {},
   "outputs": [],
   "source": [
    "habitos[\"Grado_estudios_p\"]=habitos[\"Grado_estudios_p\"].replace([\"MAESTRÍA\"],\"MAESTRIA\")\n",
    "habitos[\"Grado_estudios_p\"]=habitos[\"Grado_estudios_p\"].replace([\"LICENCIATURA, INGENIERÍA O ESCUELA NORMAL\", \"LICENCIATURA, INGENIERÍA O NORMAL\"],\"LICENCIATURA, INGENIERIA O NORMAL\")"
   ]
  },
  {
   "cell_type": "code",
   "execution_count": 35,
   "metadata": {},
   "outputs": [
    {
     "data": {
      "text/plain": [
       "array(['SECUNDARIA', 'CARRERA TÉCNICA', 'PREPARATORIA O BACHILLERATO',\n",
       "       'MAESTRIA', 'LICENCIATURA, INGENIERIA O NORMAL', 'SIN ESTUDIOS',\n",
       "       'PRIMARIA', 'PREPARATORIA O BACHILLERATO INCOMPLETO',\n",
       "       'SECUNDARIA INCOMPLETA', 'SUPERIOR INCOMPLETA', 'DOCTORADO',\n",
       "       'PRIMARIA INCOMPLETA', 'CARRERA TÉCNICA INCOMPLETA',\n",
       "       'ESTUDIOS SUPERIORES INCOMPLETOS'], dtype=object)"
      ]
     },
     "execution_count": 35,
     "metadata": {},
     "output_type": "execute_result"
    }
   ],
   "source": [
    "habitos[\"Grado_estudios_p\"].unique()"
   ]
  },
  {
   "cell_type": "code",
   "execution_count": 36,
   "metadata": {},
   "outputs": [
    {
     "data": {
      "text/html": [
       "<div>\n",
       "<style scoped>\n",
       "    .dataframe tbody tr th:only-of-type {\n",
       "        vertical-align: middle;\n",
       "    }\n",
       "\n",
       "    .dataframe tbody tr th {\n",
       "        vertical-align: top;\n",
       "    }\n",
       "\n",
       "    .dataframe thead th {\n",
       "        text-align: right;\n",
       "    }\n",
       "</style>\n",
       "<table border=\"1\" class=\"dataframe\">\n",
       "  <thead>\n",
       "    <tr style=\"text-align: right;\">\n",
       "      <th></th>\n",
       "      <th>Grado_estudios_p</th>\n",
       "      <th>frecuency</th>\n",
       "    </tr>\n",
       "  </thead>\n",
       "  <tbody>\n",
       "    <tr>\n",
       "      <th>0</th>\n",
       "      <td>CARRERA TÉCNICA</td>\n",
       "      <td>81</td>\n",
       "    </tr>\n",
       "    <tr>\n",
       "      <th>1</th>\n",
       "      <td>CARRERA TÉCNICA INCOMPLETA</td>\n",
       "      <td>4</td>\n",
       "    </tr>\n",
       "    <tr>\n",
       "      <th>2</th>\n",
       "      <td>DOCTORADO</td>\n",
       "      <td>5</td>\n",
       "    </tr>\n",
       "    <tr>\n",
       "      <th>3</th>\n",
       "      <td>ESTUDIOS SUPERIORES INCOMPLETOS</td>\n",
       "      <td>3</td>\n",
       "    </tr>\n",
       "    <tr>\n",
       "      <th>4</th>\n",
       "      <td>LICENCIATURA, INGENIERIA O NORMAL</td>\n",
       "      <td>98</td>\n",
       "    </tr>\n",
       "    <tr>\n",
       "      <th>5</th>\n",
       "      <td>MAESTRIA</td>\n",
       "      <td>18</td>\n",
       "    </tr>\n",
       "    <tr>\n",
       "      <th>6</th>\n",
       "      <td>PREPARATORIA O BACHILLERATO</td>\n",
       "      <td>221</td>\n",
       "    </tr>\n",
       "    <tr>\n",
       "      <th>7</th>\n",
       "      <td>PREPARATORIA O BACHILLERATO INCOMPLETO</td>\n",
       "      <td>52</td>\n",
       "    </tr>\n",
       "    <tr>\n",
       "      <th>8</th>\n",
       "      <td>PRIMARIA</td>\n",
       "      <td>100</td>\n",
       "    </tr>\n",
       "    <tr>\n",
       "      <th>9</th>\n",
       "      <td>PRIMARIA INCOMPLETA</td>\n",
       "      <td>15</td>\n",
       "    </tr>\n",
       "    <tr>\n",
       "      <th>10</th>\n",
       "      <td>SECUNDARIA</td>\n",
       "      <td>393</td>\n",
       "    </tr>\n",
       "    <tr>\n",
       "      <th>11</th>\n",
       "      <td>SECUNDARIA INCOMPLETA</td>\n",
       "      <td>20</td>\n",
       "    </tr>\n",
       "    <tr>\n",
       "      <th>12</th>\n",
       "      <td>SIN ESTUDIOS</td>\n",
       "      <td>20</td>\n",
       "    </tr>\n",
       "    <tr>\n",
       "      <th>13</th>\n",
       "      <td>SUPERIOR INCOMPLETA</td>\n",
       "      <td>8</td>\n",
       "    </tr>\n",
       "  </tbody>\n",
       "</table>\n",
       "</div>"
      ],
      "text/plain": [
       "                          Grado_estudios_p  frecuency\n",
       "0                          CARRERA TÉCNICA         81\n",
       "1               CARRERA TÉCNICA INCOMPLETA          4\n",
       "2                                DOCTORADO          5\n",
       "3          ESTUDIOS SUPERIORES INCOMPLETOS          3\n",
       "4        LICENCIATURA, INGENIERIA O NORMAL         98\n",
       "5                                 MAESTRIA         18\n",
       "6              PREPARATORIA O BACHILLERATO        221\n",
       "7   PREPARATORIA O BACHILLERATO INCOMPLETO         52\n",
       "8                                 PRIMARIA        100\n",
       "9                      PRIMARIA INCOMPLETA         15\n",
       "10                              SECUNDARIA        393\n",
       "11                   SECUNDARIA INCOMPLETA         20\n",
       "12                            SIN ESTUDIOS         20\n",
       "13                     SUPERIOR INCOMPLETA          8"
      ]
     },
     "execution_count": 36,
     "metadata": {},
     "output_type": "execute_result"
    }
   ],
   "source": [
    "freq_estudios_p = (habitos.groupby(\"Grado_estudios_p\").agg(frecuency=(\"Grado_estudios_p\", \"count\")).reset_index())\n",
    "freq_estudios_p"
   ]
  },
  {
   "cell_type": "code",
   "execution_count": 37,
   "metadata": {},
   "outputs": [
    {
     "data": {
      "image/png": "[encoded data removed]",
      "text/plain": [
       "<Figure size 432x288 with 1 Axes>"
      ]
     },
     "metadata": {
      "needs_background": "light"
     },
     "output_type": "display_data"
    }
   ],
   "source": [
    "plot=habitos[\"Grado_estudios_p\"].value_counts().plot(kind=\"bar\",title=\"GRADO DE ESTUDIOS DEL PADRE\")"
   ]
  },
  {
   "cell_type": "code",
   "execution_count": 38,
   "metadata": {},
   "outputs": [
    {
     "data": {
      "text/plain": [
       "array(['SECUNDARIA', 'CARRERA TECNICA', 'PREPARATORIA O BACHILLERATO',\n",
       "       'LICENCIATURA, INGENIERÍA O ESCUELA NORMAL', 'PRIMARIA',\n",
       "       'MAESTRIA', 'SECUNDARIA INCOMPLETA',\n",
       "       'PREPARATORIA O BACHILLERATO INCOMPLETO',\n",
       "       'LICENCIATURA, INGENIERÍA O NORMAL', 'PRIMARIA INCOMPLETA',\n",
       "       'SUPERIOR INCOMPLETA', 'CARRERA TÉCNICA INCOMPLETA',\n",
       "       'SIN ESTUDIOS', 'CARRERA TÉCNICA', 'MAESTRÍA'], dtype=object)"
      ]
     },
     "execution_count": 38,
     "metadata": {},
     "output_type": "execute_result"
    }
   ],
   "source": [
    "habitos[\"Grado_estudios_m\"].unique()"
   ]
  },
  {
   "cell_type": "code",
   "execution_count": 39,
   "metadata": {},
   "outputs": [],
   "source": [
    "habitos[\"Grado_estudios_m\"]=habitos[\"Grado_estudios_m\"].replace([\"CARRERA TÉCNICA\"],\"CARRERA TECNICA\")\n",
    "habitos[\"Grado_estudios_m\"]=habitos[\"Grado_estudios_m\"].replace([\"LICENCIATURA, INGENIERÍA O ESCUELA NORMAL\", \"LICENCIATURA, INGENIERÍA O NORMAL\"],\"LICENCIATURA, INGENIERIA O NORMAL\")\n",
    "habitos[\"Grado_estudios_m\"]=habitos[\"Grado_estudios_m\"].replace([\"MAESTRÍA\"],\"MAESTRIA\")"
   ]
  },
  {
   "cell_type": "code",
   "execution_count": 40,
   "metadata": {},
   "outputs": [
    {
     "data": {
      "text/html": [
       "<div>\n",
       "<style scoped>\n",
       "    .dataframe tbody tr th:only-of-type {\n",
       "        vertical-align: middle;\n",
       "    }\n",
       "\n",
       "    .dataframe tbody tr th {\n",
       "        vertical-align: top;\n",
       "    }\n",
       "\n",
       "    .dataframe thead th {\n",
       "        text-align: right;\n",
       "    }\n",
       "</style>\n",
       "<table border=\"1\" class=\"dataframe\">\n",
       "  <thead>\n",
       "    <tr style=\"text-align: right;\">\n",
       "      <th></th>\n",
       "      <th>Grado_estudios_m</th>\n",
       "      <th>frecuency</th>\n",
       "    </tr>\n",
       "  </thead>\n",
       "  <tbody>\n",
       "    <tr>\n",
       "      <th>0</th>\n",
       "      <td>CARRERA TECNICA</td>\n",
       "      <td>147</td>\n",
       "    </tr>\n",
       "    <tr>\n",
       "      <th>1</th>\n",
       "      <td>CARRERA TÉCNICA INCOMPLETA</td>\n",
       "      <td>3</td>\n",
       "    </tr>\n",
       "    <tr>\n",
       "      <th>2</th>\n",
       "      <td>LICENCIATURA, INGENIERIA O NORMAL</td>\n",
       "      <td>69</td>\n",
       "    </tr>\n",
       "    <tr>\n",
       "      <th>3</th>\n",
       "      <td>MAESTRIA</td>\n",
       "      <td>14</td>\n",
       "    </tr>\n",
       "    <tr>\n",
       "      <th>4</th>\n",
       "      <td>PREPARATORIA O BACHILLERATO</td>\n",
       "      <td>188</td>\n",
       "    </tr>\n",
       "    <tr>\n",
       "      <th>5</th>\n",
       "      <td>PREPARATORIA O BACHILLERATO INCOMPLETO</td>\n",
       "      <td>52</td>\n",
       "    </tr>\n",
       "    <tr>\n",
       "      <th>6</th>\n",
       "      <td>PRIMARIA</td>\n",
       "      <td>100</td>\n",
       "    </tr>\n",
       "    <tr>\n",
       "      <th>7</th>\n",
       "      <td>PRIMARIA INCOMPLETA</td>\n",
       "      <td>13</td>\n",
       "    </tr>\n",
       "    <tr>\n",
       "      <th>8</th>\n",
       "      <td>SECUNDARIA</td>\n",
       "      <td>426</td>\n",
       "    </tr>\n",
       "    <tr>\n",
       "      <th>9</th>\n",
       "      <td>SECUNDARIA INCOMPLETA</td>\n",
       "      <td>17</td>\n",
       "    </tr>\n",
       "    <tr>\n",
       "      <th>10</th>\n",
       "      <td>SIN ESTUDIOS</td>\n",
       "      <td>7</td>\n",
       "    </tr>\n",
       "    <tr>\n",
       "      <th>11</th>\n",
       "      <td>SUPERIOR INCOMPLETA</td>\n",
       "      <td>2</td>\n",
       "    </tr>\n",
       "  </tbody>\n",
       "</table>\n",
       "</div>"
      ],
      "text/plain": [
       "                          Grado_estudios_m  frecuency\n",
       "0                          CARRERA TECNICA        147\n",
       "1               CARRERA TÉCNICA INCOMPLETA          3\n",
       "2        LICENCIATURA, INGENIERIA O NORMAL         69\n",
       "3                                 MAESTRIA         14\n",
       "4              PREPARATORIA O BACHILLERATO        188\n",
       "5   PREPARATORIA O BACHILLERATO INCOMPLETO         52\n",
       "6                                 PRIMARIA        100\n",
       "7                      PRIMARIA INCOMPLETA         13\n",
       "8                               SECUNDARIA        426\n",
       "9                    SECUNDARIA INCOMPLETA         17\n",
       "10                            SIN ESTUDIOS          7\n",
       "11                     SUPERIOR INCOMPLETA          2"
      ]
     },
     "execution_count": 40,
     "metadata": {},
     "output_type": "execute_result"
    }
   ],
   "source": [
    "freq_estudios_m = (habitos.groupby(\"Grado_estudios_m\").agg(frecuency=(\"Grado_estudios_m\", \"count\")).reset_index())\n",
    "freq_estudios_m"
   ]
  },
  {
   "cell_type": "code",
   "execution_count": 41,
   "metadata": {},
   "outputs": [
    {
     "data": {
      "image/png": "[encoded data removed]",
      "text/plain": [
       "<Figure size 432x288 with 1 Axes>"
      ]
     },
     "metadata": {
      "needs_background": "light"
     },
     "output_type": "display_data"
    }
   ],
   "source": [
    "plot=habitos[\"Grado_estudios_m\"].value_counts().plot(kind=\"bar\",title=\"GRADO DE ESTUDIOS DE LA MADRE\")"
   ]
  },
  {
   "cell_type": "code",
   "execution_count": 42,
   "metadata": {},
   "outputs": [
    {
     "data": {
      "text/plain": [
       "array(['NEGOCIO PROPIO', nan,\n",
       "       'OFICIO (CARPINTERO, CAMPESINO, OBRERO, HERRERO, CARPINTERO, ALBAÑIL, ENTRE OTROS)',\n",
       "       'EMPLEADO', 'COMERCIO INFORMAL', 'POLICIA',\n",
       "       'OTRO(ASESOR INMOBILIARIO)', 'JUBILADO', 'SERVIDOR PÚBLICO',\n",
       "       'PROFESIONISTA INDEPENDIENTE', 'OTRO(TAXISTA)', 'MILITAR',\n",
       "       'DESEMPLEADO', 'OTRO', 'OBRERO', 'OFICIO', 'COMERCIANTE',\n",
       "       'SERVIDOR PÚBLICO, OTRO', 'DOCENTE', 'OFICIO, OTRO',\n",
       "       'OTRO (Chofér)', 'SE DEDICA AL HOGAR',\n",
       "       'OTRO (PRIVADO DE LA LIBERTAD)', 'CAMPESINO', 'OTRO (Chef)',\n",
       "       'OTRO (Taquero)', 'OTRO (Chofer Mensajero)',\n",
       "       'OTRO (CHOFER DE AUTOBUS)', 'OTRO (TAXISTA)',\n",
       "       'NEGOCIO PROPIO, PROFESIONISTA INDEPENDIENTE', 'Taxista',\n",
       "       'Técnico en urgencias médicas ', 'Maneja un trailer',\n",
       "       'LO DESCONOZCO', 'Pensionado', 'Está muerto ',\n",
       "       'TECNICO EN SISTEMAS DE SEGURIDAD', 'FINADO', 'CHOFER',\n",
       "       'OPERADOR DE TRASPORTE PUBLICO', 'OBRERO, OTRO',\n",
       "       'Conductor de autobús', 'Mecánico en línea blanca ', 'Desconozco',\n",
       "       'Electricista', 'CHOFER ', 'Pre-venta', 'TAXISTA',\n",
       "       'Operador de tráiler ', 'CONDUCTOR DE TURISMO ',\n",
       "       'Trabaja en cuidar un Walmart', 'Operador', 'HOTELERO', 'Panadero',\n",
       "       'TRABAJA POR SU CUENTA ', 'MECANICO', 'GUARDIA', 'ninguna',\n",
       "       'ROTULISTA ', 'DESPACHADOR DE GASOLINA', 'Enfermera',\n",
       "       'DESCONOCIDO', 'ALBAÑIL', 'Contador', 'ayudante de macanico',\n",
       "       'TORNERO ', 'empleado', 'EVENTOS SOCIALES ( ALQUILADORA)',\n",
       "       'Empleado', 'SEGURIDAD PUBLICA', 'tablarroquero', 'TRAILERO',\n",
       "       'Chofer', 'CONSTRUCTOR', 'EMPLEADO FEDERAL', 'Chofer de empresa',\n",
       "       'operadaor de tractocamion', 'CONTADOR', 'Paramedico',\n",
       "       'Instructor de gimnacio', 'NO SE', 'VARIOS TRABAJOS', 'CHEF',\n",
       "       'MONTACARGISTA', 'NO SE SABE.', 'HOGAR', 'Chofer ',\n",
       "       'OPERADOR DE TRAILER ', 'ELECTRICISTA ', 'Supervisor ',\n",
       "       'ALMACENISTA ', 'diseñador ', 'COBRADOR', 'Asesor telefonico ',\n",
       "       'ELECTRONICO', 'panadero', 'EMPLEADA', 'OPERADOR DE TRACTOCAMION',\n",
       "       'CONSULTOR EN SISTEMAS COMPUTACIONALES ', 'CHÓFER',\n",
       "       'AUXILIAR CONTABLE', 'albañil', 'Cocinero', 'GEFE DE SEGURIDAD'],\n",
       "      dtype=object)"
      ]
     },
     "execution_count": 42,
     "metadata": {},
     "output_type": "execute_result"
    }
   ],
   "source": [
    "habitos[\"Ocupacion_p\"].unique()"
   ]
  },
  {
   "cell_type": "code",
   "execution_count": 43,
   "metadata": {},
   "outputs": [],
   "source": [
    "habitos[\"Ocupacion_p\"]=habitos[\"Ocupacion_p\"].replace([\"ALBAÑIL\", \"CAMPECINO\", \"CAMPESINO\", \"HERRERO\", \"CARPINTERO\",\n",
    "                                                       \"ALBAÑIL\", \"tablarroquero\", \"panadero\", \"OFICIO (CARPINTERO, CAMPESINO, OBRERO, HERRERO, CARPINTERO, ALBAÑIL, ENTRE OTROS)\",\n",
    "                                                      \"OFICO\", \"OFICIO, OTRO\", \"albañil\", \"Panadero\", \"ELECTRICISTA\", \"Mecánico en línea blanca \",\n",
    "                                                      \"MECANICO\", \"Electricista\", \"TORNERO \", \"ROTULISTA \", \"MONTACARGISTA\",\n",
    "                                                      \"ELECTRICISTA \", 'CAMPESINO', 'CONSTRUCTOR', 'ELECTRONICO', 'COMERCIANTE'],\"OFICIO\")\n",
    "\n",
    "habitos[\"Ocupacion_p\"]=habitos[\"Ocupacion_p\"].replace([\"POLICIA\", \"DOCENTE\", \"SERVIDOR PÚBLICO\", \"MILITAR\", \"SERVIDOR PÚBLICO, OTRO\",\n",
    "                                                      \"SEGURIDAD PUBLICA\", \"Técnico en urgencias médicas \", \"Enfermera\", \"Paramedico\"],\"SERVIDOR PUBLICO\")\n",
    "\n",
    "habitos[\"Ocupacion_p\"]=habitos[\"Ocupacion_p\"].replace([\"OTRO(TAXISTA)\", \"Chofer\", \"OTRO (Chef)\",\n",
    "                                                      \"OTRO(ASESOR INMOBILIARIO)\", \"OTRO (PRIVADO DE LA LIBERTAD)\", \"OTRO (Chofer Mensajero)\",\n",
    "                                                      \"OTRO (TAXISTA)\", \"OTRO (CHOFER DE AUTOBUS)\", \"Taxista\", \"Maneja un trailer\",\n",
    "                                                      \"TAXISTA\", \"Conductor de autobús\", \"Chofer\", \"Chofer de empresa\", \"CHOFER\", \"CHÓFER\"\n",
    "                                                      \"Cocinero\", \"Operador\", \"OPREDADOR DE TRACTOCAMION\"],\"OTRO\")\n",
    "\n",
    "habitos[\"Ocupacion_p\"]=habitos[\"Ocupacion_p\"].replace([\"OTRO (Chofér)\", \"OTRO (Taquero)\", \"CHEF\", \"CHOFER \", \"CONDUCTOR DE TURISMO \",\n",
    "                                                      \"VARIOS TRABAJOS\", \"TRAILERO\", \"Chofer \", \"Cocinero\", \"Operador de tráiler \",\n",
    "                                                      \"OPERADOR DE TRASPORTE PUBLICO\", \"Trabaja en cuidar un Walmart\", \"Pre-venta\",\n",
    "                                                      \"DESPACHADOR DE GASOLINA\", \"operadaor de tractocamion\", \"ayudante de macanico\",\n",
    "                                                      \"HOTELERO\", \"OPERADOR DE TRAILER \", \"OPERADOR DE TRACTOCAMION\", 'EVENTOS SOCIALES ( ALQUILADORA)',\n",
    "                                                      'Instructor de gimnacio', 'COBRADOR', 'NEGOCIO PROPIO, PROFESIONISTA INDEPENDIENTE',\n",
    "                                                      'COMERCIO INFORMAL'],\"OTRO\")\n",
    "\n",
    "habitos[\"Ocupacion_p\"]=habitos[\"Ocupacion_p\"].replace([\"Pensionado\"],\"JUBILADO\")\n",
    "\n",
    "habitos[\"Ocupacion_p\"]=habitos[\"Ocupacion_p\"].replace([\"Está muerto \"],\"FINADO\")\n",
    "\n",
    "habitos[\"Ocupacion_p\"]=habitos[\"Ocupacion_p\"].replace([\"empleado \", \"empleado\", \"Empleado\", \"AUXILIAR CONTABLE\", \"EMPLEADA\", \"Asesor telefonico \",\n",
    "                                                      \"TECNICO EN SISTEMAS DE SEGURIDAD\", 'GEFE DE SEGURIDAD', 'Supervisor ', 'ALMACENISTA ',\n",
    "                                                      \"OBRERO, OTRO\",'EMPLEADO FEDERAL', 'GUARDIA', 'OBRERO'],\"EMPLEADO\")\n",
    "\n",
    "habitos[\"Ocupacion_p\"]=habitos[\"Ocupacion_p\"].replace([\"NO SE\", \"NO SE SABE\", \"LO DESCONOZCO\", \"Desconozco\", \"ninguna\", \"NO SE SABE.\"],\"DESCONOCIDO\")\n",
    "\n",
    "habitos[\"Ocupacion_p\"]=habitos[\"Ocupacion_p\"].replace([\"SE DEDICA AL HOGAR\"],\"HOGAR\")\n",
    "\n",
    "habitos[\"Ocupacion_p\"]=habitos[\"Ocupacion_p\"].replace([\"CONSULTOR EN SISTEMAS COMPUTACIONALES \", \"Contador\", \"TRABAJA POR SU CUENTA \", \"CONTADOR\",\n",
    "                                                      'diseñador '],\"PROFESIONISTA INDEPENDIENTE\")"
   ]
  },
  {
   "cell_type": "code",
   "execution_count": 44,
   "metadata": {},
   "outputs": [
    {
     "data": {
      "text/plain": [
       "array(['NEGOCIO PROPIO', nan, 'OFICIO', 'EMPLEADO', 'OTRO',\n",
       "       'SERVIDOR PUBLICO', 'JUBILADO', 'PROFESIONISTA INDEPENDIENTE',\n",
       "       'DESEMPLEADO', 'HOGAR', 'DESCONOCIDO', 'FINADO', 'CHÓFER'],\n",
       "      dtype=object)"
      ]
     },
     "execution_count": 44,
     "metadata": {},
     "output_type": "execute_result"
    }
   ],
   "source": [
    "habitos[\"Ocupacion_p\"].unique()"
   ]
  },
  {
   "cell_type": "code",
   "execution_count": 45,
   "metadata": {},
   "outputs": [
    {
     "data": {
      "text/html": [
       "<div>\n",
       "<style scoped>\n",
       "    .dataframe tbody tr th:only-of-type {\n",
       "        vertical-align: middle;\n",
       "    }\n",
       "\n",
       "    .dataframe tbody tr th {\n",
       "        vertical-align: top;\n",
       "    }\n",
       "\n",
       "    .dataframe thead th {\n",
       "        text-align: right;\n",
       "    }\n",
       "</style>\n",
       "<table border=\"1\" class=\"dataframe\">\n",
       "  <thead>\n",
       "    <tr style=\"text-align: right;\">\n",
       "      <th></th>\n",
       "      <th>Ocupacion_p</th>\n",
       "      <th>frecuency</th>\n",
       "    </tr>\n",
       "  </thead>\n",
       "  <tbody>\n",
       "    <tr>\n",
       "      <th>0</th>\n",
       "      <td>CHÓFER</td>\n",
       "      <td>1</td>\n",
       "    </tr>\n",
       "    <tr>\n",
       "      <th>1</th>\n",
       "      <td>DESCONOCIDO</td>\n",
       "      <td>7</td>\n",
       "    </tr>\n",
       "    <tr>\n",
       "      <th>2</th>\n",
       "      <td>DESEMPLEADO</td>\n",
       "      <td>33</td>\n",
       "    </tr>\n",
       "    <tr>\n",
       "      <th>3</th>\n",
       "      <td>EMPLEADO</td>\n",
       "      <td>314</td>\n",
       "    </tr>\n",
       "    <tr>\n",
       "      <th>4</th>\n",
       "      <td>FINADO</td>\n",
       "      <td>2</td>\n",
       "    </tr>\n",
       "    <tr>\n",
       "      <th>5</th>\n",
       "      <td>HOGAR</td>\n",
       "      <td>3</td>\n",
       "    </tr>\n",
       "    <tr>\n",
       "      <th>6</th>\n",
       "      <td>JUBILADO</td>\n",
       "      <td>11</td>\n",
       "    </tr>\n",
       "    <tr>\n",
       "      <th>7</th>\n",
       "      <td>NEGOCIO PROPIO</td>\n",
       "      <td>71</td>\n",
       "    </tr>\n",
       "    <tr>\n",
       "      <th>8</th>\n",
       "      <td>OFICIO</td>\n",
       "      <td>180</td>\n",
       "    </tr>\n",
       "    <tr>\n",
       "      <th>9</th>\n",
       "      <td>OTRO</td>\n",
       "      <td>190</td>\n",
       "    </tr>\n",
       "    <tr>\n",
       "      <th>10</th>\n",
       "      <td>PROFESIONISTA INDEPENDIENTE</td>\n",
       "      <td>30</td>\n",
       "    </tr>\n",
       "    <tr>\n",
       "      <th>11</th>\n",
       "      <td>SERVIDOR PUBLICO</td>\n",
       "      <td>191</td>\n",
       "    </tr>\n",
       "  </tbody>\n",
       "</table>\n",
       "</div>"
      ],
      "text/plain": [
       "                    Ocupacion_p  frecuency\n",
       "0                        CHÓFER          1\n",
       "1                   DESCONOCIDO          7\n",
       "2                   DESEMPLEADO         33\n",
       "3                      EMPLEADO        314\n",
       "4                        FINADO          2\n",
       "5                         HOGAR          3\n",
       "6                      JUBILADO         11\n",
       "7                NEGOCIO PROPIO         71\n",
       "8                        OFICIO        180\n",
       "9                          OTRO        190\n",
       "10  PROFESIONISTA INDEPENDIENTE         30\n",
       "11             SERVIDOR PUBLICO        191"
      ]
     },
     "execution_count": 45,
     "metadata": {},
     "output_type": "execute_result"
    }
   ],
   "source": [
    "freq_ocupacion_p = (habitos.groupby(\"Ocupacion_p\").agg(frecuency=(\"Ocupacion_p\", \"count\")).reset_index())\n",
    "freq_ocupacion_p"
   ]
  },
  {
   "cell_type": "code",
   "execution_count": 46,
   "metadata": {},
   "outputs": [
    {
     "data": {
      "image/png": "[encoded data removed]",
      "text/plain": [
       "<Figure size 432x288 with 1 Axes>"
      ]
     },
     "metadata": {
      "needs_background": "light"
     },
     "output_type": "display_data"
    }
   ],
   "source": [
    "plot=habitos[\"Ocupacion_p\"].value_counts().plot(kind=\"bar\",title=\"OCUPACION DEL PADRE\")"
   ]
  },
  {
   "cell_type": "code",
   "execution_count": 47,
   "metadata": {},
   "outputs": [
    {
     "data": {
      "text/plain": [
       "array(['SE DEDICA AL HOGAR', 'NEGOCIO PROPIO', 'EMPLEADA',\n",
       "       'OFICIO (COSTURERA, OBRERA, COCINERA, ESTILISTA, EMPLEADA DOMÉSTICA, ENTRE OTROS)',\n",
       "       'DOCENTE', 'COMERCIO INFORMAL', 'OTRO', 'MILITAR', 'POLICIA',\n",
       "       'HOGAR', 'COMERCIANTE', 'OBRERA', 'OFICIO', 'OFICIO, OTRO',\n",
       "       'DESEMPLEADA', 'COSTURERA, COMERCIANTE, HOGAR', 'OTRO (Cocinera)',\n",
       "       'SERVIDOR PÙBLICO', 'OTRO (Trabaja de limpieza)',\n",
       "       'EMPLEADA, OFICIO', 'HOGAR, OTRO', 'EMPLEADA, HOGAR',\n",
       "       'NEGOCIO PROPIO, HOGAR', 'COSTURERA', 'OBRERA, HOGAR', 'JUBILADA',\n",
       "       'Técnico en urgencias médicas ', 'PROFESIONISTA INDEPENDIENTE',\n",
       "       'COMERCIANTE, NEGOCIO PROPIO', 'COSTURERA, HOGAR',\n",
       "       'Enfermera particular ', 'COMERCIANTE, HOGAR',\n",
       "       'COSTURERA, EMPLEADA', 'Recepcionista ', 'Ama de casa',\n",
       "       'Pre-venta', 'Empleada doméstica ', 'CAJERA', 'Enfermera',\n",
       "       'ENFERMERA', 'Perito profecional', 'DESPACHADORA DE GASOLINA',\n",
       "       'AMA DE CASA', 'MAMÁ DE CASA', 'Policia', 'NO SE', 'ama de casa ',\n",
       "       'PROMOTORA', 'Seguridad privada', 'REPOSTERIA', 'cajera'],\n",
       "      dtype=object)"
      ]
     },
     "execution_count": 47,
     "metadata": {},
     "output_type": "execute_result"
    }
   ],
   "source": [
    "habitos[\"Ocupacion_m\"].unique()"
   ]
  },
  {
   "cell_type": "code",
   "execution_count": 48,
   "metadata": {},
   "outputs": [],
   "source": [
    "habitos[\"Ocupacion_m\"]=habitos[\"Ocupacion_m\"].replace([\"COSTURERA\", \"ESTILISTA\", \"EMPLEADA DOMESTICA\"\n",
    "                                                      , \"OFICIO (COSTURERA, OBRERA, COCINERA, ESTILISTA, EMPLEADA DOMÉSTICA, ENTRE OTROS)\",\n",
    "                                                       \"OFICIO, OTRO\", \"OTRO (Cocinera)\",'OTRO (Trabaja de limpieza)', 'Empleada doméstica ',\n",
    "                                                      'COSTURERA, HOGAR', 'COSTURERA, EMPLEADA', 'REPOSTERIA'],\"OFICIO\")\n",
    "\n",
    "habitos[\"Ocupacion_m\"]=habitos[\"Ocupacion_m\"].replace(['HOGAR, OTRO', 'ama de casa ', 'Ama de casa', 'MAMÁ DE CASA', 'SE DEDICA AL HOGAR', 'AMA DE CASA'],\"HOGAR\")\n",
    "\n",
    "habitos[\"Ocupacion_m\"]=habitos[\"Ocupacion_m\"].replace([\"Policia\", \"DOCENTE\", \"SERVIDOR PÚBLICO\", \"MILITAR\", \"SERVIDOR PÚBLICO, OTRO\",\n",
    "                                                      \"SEGURIDAD PUBLICA\", \"Técnico en urgencias médicas \", \"ENFERMERA\", \"Paramedico\",\n",
    "                                                      'Enfermera particular ', 'Perito profecional', 'PROMOTORA', 'SERVIDOR PÙBLICO'],\"SERVIDOR PUBLICO\")\n",
    "\n",
    "habitos[\"Ocupacion_m\"]=habitos[\"Ocupacion_m\"].replace([\"NO SE\", \"NO SE SABE\", \"LO DESCONOZCO\", \"Desconozco\", \"ninguna\", \"NO SE SABE.\"],\"DESCONOCIDO\")\n",
    "\n",
    "habitos[\"Ocupacion_m\"]=habitos[\"Ocupacion_m\"].replace(['CAJERA',\"empleado \", \"empleado\", \"EMPLEADO\", \"AUXILIAR CONTABLE\", \"EMPLEADA\", \"Asesor telefonico \",\n",
    "                                                      'cajera', 'DESPACHADORA DE GASOLINA',\"TECNICO EN SISTEMAS DE SEGURIDAD\", 'GEFE DE SEGURIDAD', 'Supervisor ', 'ALMACENISTA ',\n",
    "                                                      'Recepcionista ', 'Seguridad privada','EMPLEADO FEDERAL', 'GUARDIA', 'EMPLEADA, HOGAR', 'OBRERA, HOGAR',\n",
    "                                                      'EMPLEADA, OFICIO', 'OBRERA'],\"EMPLEADA\")\n",
    "\n",
    "habitos[\"Ocupacion_m\"]=habitos[\"Ocupacion_m\"].replace(['Pre-venta'],\"OTRO\")\n",
    "habitos[\"Ocupacion_m\"]=habitos[\"Ocupacion_m\"].replace(['COMERCIO INFORMAL', 'COMERCIANTE, NEGOCIO PROPIO', 'COSTURERA, COMERCIANTE, HOGAR',\n",
    "                                                      'COMERCIANTE, HOGAR', 'NEGOCIO PROPIO, HOGAR', 'COMERCIANTE'],\"NEGOCIO PROPIO\")"
   ]
  },
  {
   "cell_type": "code",
   "execution_count": 49,
   "metadata": {},
   "outputs": [
    {
     "data": {
      "text/plain": [
       "array(['HOGAR', 'NEGOCIO PROPIO', 'EMPLEADA', 'OFICIO',\n",
       "       'SERVIDOR PUBLICO', 'OTRO', 'POLICIA', 'DESEMPLEADA', 'JUBILADA',\n",
       "       'PROFESIONISTA INDEPENDIENTE', 'Enfermera', 'DESCONOCIDO'],\n",
       "      dtype=object)"
      ]
     },
     "execution_count": 49,
     "metadata": {},
     "output_type": "execute_result"
    }
   ],
   "source": [
    "habitos[\"Ocupacion_m\"].unique()"
   ]
  },
  {
   "cell_type": "code",
   "execution_count": 50,
   "metadata": {},
   "outputs": [
    {
     "data": {
      "text/html": [
       "<div>\n",
       "<style scoped>\n",
       "    .dataframe tbody tr th:only-of-type {\n",
       "        vertical-align: middle;\n",
       "    }\n",
       "\n",
       "    .dataframe tbody tr th {\n",
       "        vertical-align: top;\n",
       "    }\n",
       "\n",
       "    .dataframe thead th {\n",
       "        text-align: right;\n",
       "    }\n",
       "</style>\n",
       "<table border=\"1\" class=\"dataframe\">\n",
       "  <thead>\n",
       "    <tr style=\"text-align: right;\">\n",
       "      <th></th>\n",
       "      <th>Ocupacion_m</th>\n",
       "      <th>frecuency</th>\n",
       "    </tr>\n",
       "  </thead>\n",
       "  <tbody>\n",
       "    <tr>\n",
       "      <th>0</th>\n",
       "      <td>DESCONOCIDO</td>\n",
       "      <td>1</td>\n",
       "    </tr>\n",
       "    <tr>\n",
       "      <th>1</th>\n",
       "      <td>DESEMPLEADA</td>\n",
       "      <td>10</td>\n",
       "    </tr>\n",
       "    <tr>\n",
       "      <th>2</th>\n",
       "      <td>EMPLEADA</td>\n",
       "      <td>179</td>\n",
       "    </tr>\n",
       "    <tr>\n",
       "      <th>3</th>\n",
       "      <td>Enfermera</td>\n",
       "      <td>1</td>\n",
       "    </tr>\n",
       "    <tr>\n",
       "      <th>4</th>\n",
       "      <td>HOGAR</td>\n",
       "      <td>616</td>\n",
       "    </tr>\n",
       "    <tr>\n",
       "      <th>5</th>\n",
       "      <td>JUBILADA</td>\n",
       "      <td>1</td>\n",
       "    </tr>\n",
       "    <tr>\n",
       "      <th>6</th>\n",
       "      <td>NEGOCIO PROPIO</td>\n",
       "      <td>97</td>\n",
       "    </tr>\n",
       "    <tr>\n",
       "      <th>7</th>\n",
       "      <td>OFICIO</td>\n",
       "      <td>52</td>\n",
       "    </tr>\n",
       "    <tr>\n",
       "      <th>8</th>\n",
       "      <td>OTRO</td>\n",
       "      <td>18</td>\n",
       "    </tr>\n",
       "    <tr>\n",
       "      <th>9</th>\n",
       "      <td>POLICIA</td>\n",
       "      <td>2</td>\n",
       "    </tr>\n",
       "    <tr>\n",
       "      <th>10</th>\n",
       "      <td>PROFESIONISTA INDEPENDIENTE</td>\n",
       "      <td>11</td>\n",
       "    </tr>\n",
       "    <tr>\n",
       "      <th>11</th>\n",
       "      <td>SERVIDOR PUBLICO</td>\n",
       "      <td>50</td>\n",
       "    </tr>\n",
       "  </tbody>\n",
       "</table>\n",
       "</div>"
      ],
      "text/plain": [
       "                    Ocupacion_m  frecuency\n",
       "0                   DESCONOCIDO          1\n",
       "1                   DESEMPLEADA         10\n",
       "2                      EMPLEADA        179\n",
       "3                     Enfermera          1\n",
       "4                         HOGAR        616\n",
       "5                      JUBILADA          1\n",
       "6                NEGOCIO PROPIO         97\n",
       "7                        OFICIO         52\n",
       "8                          OTRO         18\n",
       "9                       POLICIA          2\n",
       "10  PROFESIONISTA INDEPENDIENTE         11\n",
       "11             SERVIDOR PUBLICO         50"
      ]
     },
     "execution_count": 50,
     "metadata": {},
     "output_type": "execute_result"
    }
   ],
   "source": [
    "freq_ocupacion_m = (habitos.groupby(\"Ocupacion_m\").agg(frecuency=(\"Ocupacion_m\", \"count\")).reset_index())\n",
    "freq_ocupacion_m"
   ]
  },
  {
   "cell_type": "code",
   "execution_count": 51,
   "metadata": {},
   "outputs": [
    {
     "data": {
      "image/png": "[encoded data removed]",
      "text/plain": [
       "<Figure size 432x288 with 1 Axes>"
      ]
     },
     "metadata": {
      "needs_background": "light"
     },
     "output_type": "display_data"
    }
   ],
   "source": [
    "plot=habitos[\"Ocupacion_m\"].value_counts().plot(kind=\"bar\",title=\"OCUPACION DE LA MADRE\")"
   ]
  },
  {
   "cell_type": "code",
   "execution_count": 52,
   "metadata": {},
   "outputs": [
    {
     "data": {
      "text/plain": [
       "array(['7.4', '7.2', '7.9', '9.4', '8.8', '8.2', '6.1', '8.1', '9.5',\n",
       "       '8.6', '9.1', '7.6', '9.3', '9', '8', '9.2', '8.3', '9.7', '8.7',\n",
       "       '7.8', '9.6', '8.4', '7', '7.7', '8.9', '7.1', '8.5', '7.3', '7.5',\n",
       "       '9.8', '6.9', '9.9', '6.5', '7,3', nan, '10', '6.8', '6.7', '6.6',\n",
       "       'SIN CERTIFICADO', '806', '8,0', '´9.6'], dtype=object)"
      ]
     },
     "execution_count": 52,
     "metadata": {},
     "output_type": "execute_result"
    }
   ],
   "source": [
    "habitos[\"Promedio_secundaria\"].unique()"
   ]
  },
  {
   "cell_type": "code",
   "execution_count": 53,
   "metadata": {},
   "outputs": [],
   "source": [
    "habitos[\"Promedio_secundaria\"]=habitos[\"Promedio_secundaria\"].replace(['806'],\"8.6\")\n",
    "habitos[\"Promedio_secundaria\"]=habitos[\"Promedio_secundaria\"].replace(['7,3'],\"7.3\")\n",
    "habitos[\"Promedio_secundaria\"]=habitos[\"Promedio_secundaria\"].replace(['8,0'],\"8.0\")\n",
    "habitos[\"Promedio_secundaria\"]=habitos[\"Promedio_secundaria\"].replace(['´9.6'],\"9.6\")\n",
    "habitos[\"Promedio_secundaria\"]=habitos[\"Promedio_secundaria\"].replace(['SIN CERTIFICADO'],\"8.6\")\n",
    "habitos[\"Promedio_secundaria\"]=habitos[\"Promedio_secundaria\"].replace([\"6.0\", \"6.1\", \"6.2\", \"6.3\", \"6.4\", \"6.5\", \"6.6\", \"6.7\", \"6.8\", \"6.9\"],\"6.0 - 6.9\")\n",
    "habitos[\"Promedio_secundaria\"]=habitos[\"Promedio_secundaria\"].replace([\"7\",\"7.0\", \"7.1\", \"7.2\", \"7.3\", \"7.4\", \"7.5\", \"7.6\", \"7.7\", \"7.8\", \"7.9\"],\"7.0 - 7.9\")\n",
    "habitos[\"Promedio_secundaria\"]=habitos[\"Promedio_secundaria\"].replace([8.6,\"8\", \"8.0\", \"8.1\", \"8.2\", \"8.3\", \"8.4\", \"8.5\", \"8.6\", \"8.7\", \"8.8\", \"8.9\"],\"8.0 - 8.9\")\n",
    "habitos[\"Promedio_secundaria\"]=habitos[\"Promedio_secundaria\"].replace([\"9\",\"9.0\", \"9.1\", \"9.2\", \"9.3\", \"9.4\", \"9.5\", \"9.6\", \"9.7\", \"9.8\", \"9.9\"],\"9.0 - 9.9\")"
   ]
  },
  {
   "cell_type": "code",
   "execution_count": 54,
   "metadata": {},
   "outputs": [
    {
     "data": {
      "text/plain": [
       "array(['7.0 - 7.9', '9.0 - 9.9', '8.0 - 8.9', '6.0 - 6.9', nan, '10'],\n",
       "      dtype=object)"
      ]
     },
     "execution_count": 54,
     "metadata": {},
     "output_type": "execute_result"
    }
   ],
   "source": [
    "habitos[\"Promedio_secundaria\"].unique()"
   ]
  },
  {
   "cell_type": "code",
   "execution_count": 55,
   "metadata": {},
   "outputs": [
    {
     "data": {
      "text/html": [
       "<div>\n",
       "<style scoped>\n",
       "    .dataframe tbody tr th:only-of-type {\n",
       "        vertical-align: middle;\n",
       "    }\n",
       "\n",
       "    .dataframe tbody tr th {\n",
       "        vertical-align: top;\n",
       "    }\n",
       "\n",
       "    .dataframe thead th {\n",
       "        text-align: right;\n",
       "    }\n",
       "</style>\n",
       "<table border=\"1\" class=\"dataframe\">\n",
       "  <thead>\n",
       "    <tr style=\"text-align: right;\">\n",
       "      <th></th>\n",
       "      <th>Promedio_secundaria</th>\n",
       "      <th>frecuency</th>\n",
       "    </tr>\n",
       "  </thead>\n",
       "  <tbody>\n",
       "    <tr>\n",
       "      <th>0</th>\n",
       "      <td>10</td>\n",
       "      <td>1</td>\n",
       "    </tr>\n",
       "    <tr>\n",
       "      <th>1</th>\n",
       "      <td>6.0 - 6.9</td>\n",
       "      <td>12</td>\n",
       "    </tr>\n",
       "    <tr>\n",
       "      <th>2</th>\n",
       "      <td>7.0 - 7.9</td>\n",
       "      <td>185</td>\n",
       "    </tr>\n",
       "    <tr>\n",
       "      <th>3</th>\n",
       "      <td>8.0 - 8.9</td>\n",
       "      <td>356</td>\n",
       "    </tr>\n",
       "    <tr>\n",
       "      <th>4</th>\n",
       "      <td>9.0 - 9.9</td>\n",
       "      <td>336</td>\n",
       "    </tr>\n",
       "  </tbody>\n",
       "</table>\n",
       "</div>"
      ],
      "text/plain": [
       "  Promedio_secundaria  frecuency\n",
       "0                  10          1\n",
       "1           6.0 - 6.9         12\n",
       "2           7.0 - 7.9        185\n",
       "3           8.0 - 8.9        356\n",
       "4           9.0 - 9.9        336"
      ]
     },
     "execution_count": 55,
     "metadata": {},
     "output_type": "execute_result"
    }
   ],
   "source": [
    "freq_promedio = (habitos.groupby(\"Promedio_secundaria\").agg(frecuency=(\"Promedio_secundaria\", \"count\")).reset_index())\n",
    "freq_promedio"
   ]
  },
  {
   "cell_type": "code",
   "execution_count": 56,
   "metadata": {},
   "outputs": [
    {
     "data": {
      "image/png": "[encoded data removed]",
      "text/plain": [
       "<Figure size 432x288 with 1 Axes>"
      ]
     },
     "metadata": {
      "needs_background": "light"
     },
     "output_type": "display_data"
    }
   ],
   "source": [
    "plot=habitos[\"Promedio_secundaria\"].value_counts().plot(kind=\"bar\",title=\"PROMEDIO DE SECUNDARIA\")"
   ]
  },
  {
   "cell_type": "code",
   "execution_count": 57,
   "metadata": {},
   "outputs": [
    {
     "data": {
      "text/plain": [
       "array(['71 A 90', '91 A 120', '92', '102', '80', '73', '78', '94', '89',\n",
       "       '86', '90', '75', '87', '74', '88', '81', '96', '110', '76', '82',\n",
       "       '85', '100', '116', '79', '91', '77', '108', '83', '99', '93',\n",
       "       '106', '107', '112', '72', '97', '84', '104', '95', '98',\n",
       "       '51 A 70', '6', '75 ACIERTOS', nan, '70', '71', '109', '101',\n",
       "       '104 aciertos', '58', '65', '63', '105', '45', '9.2', '111', '68'],\n",
       "      dtype=object)"
      ]
     },
     "execution_count": 57,
     "metadata": {},
     "output_type": "execute_result"
    }
   ],
   "source": [
    "habitos[\"Aciertos_comipems\"].unique()"
   ]
  },
  {
   "cell_type": "code",
   "execution_count": 58,
   "metadata": {},
   "outputs": [],
   "source": [
    "habitos[\"Aciertos_comipems\"]=habitos[\"Aciertos_comipems\"].replace(['45'],\"40 - 49\")\n",
    "habitos[\"Aciertos_comipems\"]=habitos[\"Aciertos_comipems\"].replace(['50', \"51\", \"52\", \"53\", \"54\", \"55\", \"56\", \"57\", \"58\", \"59\", \"51 A 70\"],\"50 - 59\")\n",
    "habitos[\"Aciertos_comipems\"]=habitos[\"Aciertos_comipems\"].replace(['6','60', \"61\", \"62\", \"63\", \"64\", \"65\", \"66\", \"67\", \"68\", \"69\" ],\"60 - 69\")\n",
    "habitos[\"Aciertos_comipems\"]=habitos[\"Aciertos_comipems\"].replace(['71 A 90','70', \"71\", \"72\", \"73\", \"74\", \"75\", \"76\", \"77\", \"78\", \"79\", '75 ACIERTOS' ],\"70 - 79\")\n",
    "habitos[\"Aciertos_comipems\"]=habitos[\"Aciertos_comipems\"].replace(['8.6','80', \"81\", \"82\", \"83\", \"84\", \"85\", \"86\", \"87\", \"88\", \"89\" ],\"80 - 89\")\n",
    "habitos[\"Aciertos_comipems\"]=habitos[\"Aciertos_comipems\"].replace(['91 A 120','9.2','90', \"91\", \"92\", \"93\", \"94\", \"95\", \"96\", \"97\", \"98\", \"99\" ],\"90 - 99\")\n",
    "habitos[\"Aciertos_comipems\"]=habitos[\"Aciertos_comipems\"].replace(['104 aciertos','100', \"101\", \"102\", \"103\", \"104\", \"105\", \"106\", \"107\", \"108\", \"109\" ],\"100 - 109\")\n",
    "habitos[\"Aciertos_comipems\"]=habitos[\"Aciertos_comipems\"].replace(['110', \"111\", \"112\", \"113\", \"114\", \"115\", \"116\", \"117\", \"118\", \"119\" ],\"110 - 119\")"
   ]
  },
  {
   "cell_type": "code",
   "execution_count": 59,
   "metadata": {},
   "outputs": [
    {
     "data": {
      "text/plain": [
       "array(['70 - 79', '90 - 99', '100 - 109', '80 - 89', '110 - 119',\n",
       "       '50 - 59', '60 - 69', nan, '40 - 49'], dtype=object)"
      ]
     },
     "execution_count": 59,
     "metadata": {},
     "output_type": "execute_result"
    }
   ],
   "source": [
    "habitos[\"Aciertos_comipems\"].unique()"
   ]
  },
  {
   "cell_type": "code",
   "execution_count": 60,
   "metadata": {},
   "outputs": [
    {
     "data": {
      "text/html": [
       "<div>\n",
       "<style scoped>\n",
       "    .dataframe tbody tr th:only-of-type {\n",
       "        vertical-align: middle;\n",
       "    }\n",
       "\n",
       "    .dataframe tbody tr th {\n",
       "        vertical-align: top;\n",
       "    }\n",
       "\n",
       "    .dataframe thead th {\n",
       "        text-align: right;\n",
       "    }\n",
       "</style>\n",
       "<table border=\"1\" class=\"dataframe\">\n",
       "  <thead>\n",
       "    <tr style=\"text-align: right;\">\n",
       "      <th></th>\n",
       "      <th>Aciertos_comipems</th>\n",
       "      <th>frecuency</th>\n",
       "    </tr>\n",
       "  </thead>\n",
       "  <tbody>\n",
       "    <tr>\n",
       "      <th>0</th>\n",
       "      <td>100 - 109</td>\n",
       "      <td>28</td>\n",
       "    </tr>\n",
       "    <tr>\n",
       "      <th>1</th>\n",
       "      <td>110 - 119</td>\n",
       "      <td>6</td>\n",
       "    </tr>\n",
       "    <tr>\n",
       "      <th>2</th>\n",
       "      <td>40 - 49</td>\n",
       "      <td>1</td>\n",
       "    </tr>\n",
       "    <tr>\n",
       "      <th>3</th>\n",
       "      <td>50 - 59</td>\n",
       "      <td>31</td>\n",
       "    </tr>\n",
       "    <tr>\n",
       "      <th>4</th>\n",
       "      <td>60 - 69</td>\n",
       "      <td>4</td>\n",
       "    </tr>\n",
       "    <tr>\n",
       "      <th>5</th>\n",
       "      <td>70 - 79</td>\n",
       "      <td>462</td>\n",
       "    </tr>\n",
       "    <tr>\n",
       "      <th>6</th>\n",
       "      <td>80 - 89</td>\n",
       "      <td>178</td>\n",
       "    </tr>\n",
       "    <tr>\n",
       "      <th>7</th>\n",
       "      <td>90 - 99</td>\n",
       "      <td>179</td>\n",
       "    </tr>\n",
       "  </tbody>\n",
       "</table>\n",
       "</div>"
      ],
      "text/plain": [
       "  Aciertos_comipems  frecuency\n",
       "0         100 - 109         28\n",
       "1         110 - 119          6\n",
       "2           40 - 49          1\n",
       "3           50 - 59         31\n",
       "4           60 - 69          4\n",
       "5           70 - 79        462\n",
       "6           80 - 89        178\n",
       "7           90 - 99        179"
      ]
     },
     "execution_count": 60,
     "metadata": {},
     "output_type": "execute_result"
    }
   ],
   "source": [
    "freq_aciertos = (habitos.groupby(\"Aciertos_comipems\").agg(frecuency=(\"Aciertos_comipems\", \"count\")).reset_index())\n",
    "freq_aciertos"
   ]
  },
  {
   "cell_type": "code",
   "execution_count": 61,
   "metadata": {},
   "outputs": [
    {
     "data": {
      "image/png": "[encoded data removed]",
      "text/plain": [
       "<Figure size 432x288 with 1 Axes>"
      ]
     },
     "metadata": {
      "needs_background": "light"
     },
     "output_type": "display_data"
    }
   ],
   "source": [
    "plot=habitos[\"Aciertos_comipems\"].value_counts().plot(kind=\"bar\",title=\"ACIERTOS COMIPEMS\")"
   ]
  },
  {
   "cell_type": "code",
   "execution_count": 62,
   "metadata": {},
   "outputs": [
    {
     "data": {
      "text/plain": [
       "array(['SEGUNDA', 'PRIMERA', 'TERCERA', 'OTRA', 'CUARTA', 'QUINTA',\n",
       "       'PRIMERA OPCION', 'LA PRIMERA', '5ta', 'LA PROMERA', '2', 'quinta',\n",
       "       '3', 'SEGUNDA OPCION', '3°', '1', '2da', 'Primera',\n",
       "       'EN LA PRIMERA', 'tercera', '1º', '1ra', '6',\n",
       "       'EN LA PRIMERA OPCION', '1°', 'NO.1', 'primera', 'CBT NO 2 ',\n",
       "       'PRIMERA OPCION ', 'en la primera', '4',\n",
       "       'CBT NUM. 2 CARLOS PICHARDO DAC',\n",
       "       'EN LA PRIMERA CBT.2 CARLOS PICHARDO ', '7', 'segunda', 'PRIMERA ',\n",
       "       'En mi primera', '5', 'en la primera ', 'Primera opcion', '1RA',\n",
       "       nan, 'EN LA QUINTA OPCION', '2a', '1er opcion', 'EN LA PRIMERA ',\n",
       "       '4ª', '1ra OPCION', 'SÉPTIMA 7º', '1ra OPCION ', 'primera ', '8',\n",
       "       'CBT 2 ', 'Primera ', '9', '4 opcion', 'SEGUNDA OPCIÓN ',\n",
       "       'EN LA SEGUNDA', 'NO. 4', '1° opcion', 'En la primera',\n",
       "       'primera opcion', 'Octava', '6 ta', 'en la segunda',\n",
       "       'PRIMERA OPCIÓN  ', 'PRIMERA OPCIÓN', '2DA OPCION', 'sexta',\n",
       "       'CBT2 TECAMAC', 'SEPTIMA', 'Sexta', '17', '10', 'Sexta ', 'SEXTA',\n",
       "       '13', '12', 'CAMBIO DE PLANTEL ', 'NOVENA ', 'cambio de escuela ',\n",
       "       '11'], dtype=object)"
      ]
     },
     "execution_count": 62,
     "metadata": {},
     "output_type": "execute_result"
    }
   ],
   "source": [
    "habitos[\"Opcion_comipems\"].unique()"
   ]
  },
  {
   "cell_type": "code",
   "execution_count": 63,
   "metadata": {},
   "outputs": [],
   "source": [
    "habitos[\"Opcion_comipems\"]=habitos[\"Opcion_comipems\"].replace(['1', '1º','1°', 'NO.1','primera', 'Primera', 'LA PROMERA',\n",
    "                                                              '1er opcion', '1er opcion', '1ra OPCION ', '1° opcion', 'Primera opcion',\n",
    "                                                              '1ra OPCION ', 'PRIMERA OPCION', 'LA PRIMERA', '1ra', 'EN LA PRIMERA OPCION',\n",
    "                                                              'PRIMERA OPCION ','en la primera', 'EN LA PRIMERA', 'EN LA PRIMERA CBT.2 CARLOS PICHARDO ',\n",
    "                                                              'CBT NUM. 2 CARLOS PICHARDO DAC', 'CBT NO 2 ', '1RA', 'PRIMERA ', 'En mi primera',\n",
    "                                                              'EN LA PRIMERA ', 'en la primera ', '1ra OPCION', 'CBT 2 ', 'En la primera', 'primera ',\n",
    "                                                              'Primera ', 'PRIMERA OPCIÓN  ', 'PRIMERA OPCIÓN', 'CBT2 TECAMAC', 'primera opcion'],\"PRIMERA\")\n",
    "\n",
    "habitos[\"Opcion_comipems\"]=habitos[\"Opcion_comipems\"].replace(['2','en la segunda', 'SEGUNDA OPCION', '2da', '2a', 'SEGUNDA OPCIÓN ', 'segunda', 'EN LA SEGUNDA', '2DA OPCION'],\"SEGUNDA\")\n",
    "habitos[\"Opcion_comipems\"]=habitos[\"Opcion_comipems\"].replace(['3', '3°', 'tercera'],\"TERCERA\")\n",
    "habitos[\"Opcion_comipems\"]=habitos[\"Opcion_comipems\"].replace([ '4', '4ª', '4 opcion', 'NO. 4'],\"CUARTA\")\n",
    "habitos[\"Opcion_comipems\"]=habitos[\"Opcion_comipems\"].replace(['5ta', 'quinta', '5', 'EN LA QUINTA OPCION', 'QUINTA'],\"QUINTA\")\n",
    "habitos[\"Opcion_comipems\"]=habitos[\"Opcion_comipems\"].replace(['6', '7', 'SÉPTIMA 7º', '8', '9', 'Octava','6 ta','Sexta ', 'SEXTA', 'sexta','SEPTIMA', 'Sexta', '17', '10', '13', '12', 'CAMBIO DE PLANTEL ',\n",
    "       'NOVENA ', 'cambio de escuela ', '11' ],\"OTRA\")"
   ]
  },
  {
   "cell_type": "code",
   "execution_count": 64,
   "metadata": {},
   "outputs": [
    {
     "data": {
      "text/plain": [
       "array(['SEGUNDA', 'PRIMERA', 'TERCERA', 'OTRA', 'CUARTA', 'QUINTA', nan],\n",
       "      dtype=object)"
      ]
     },
     "execution_count": 64,
     "metadata": {},
     "output_type": "execute_result"
    }
   ],
   "source": [
    "habitos[\"Opcion_comipems\"].unique()"
   ]
  },
  {
   "cell_type": "code",
   "execution_count": 65,
   "metadata": {},
   "outputs": [
    {
     "data": {
      "text/html": [
       "<div>\n",
       "<style scoped>\n",
       "    .dataframe tbody tr th:only-of-type {\n",
       "        vertical-align: middle;\n",
       "    }\n",
       "\n",
       "    .dataframe tbody tr th {\n",
       "        vertical-align: top;\n",
       "    }\n",
       "\n",
       "    .dataframe thead th {\n",
       "        text-align: right;\n",
       "    }\n",
       "</style>\n",
       "<table border=\"1\" class=\"dataframe\">\n",
       "  <thead>\n",
       "    <tr style=\"text-align: right;\">\n",
       "      <th></th>\n",
       "      <th>Opcion_comipems</th>\n",
       "      <th>frecuency</th>\n",
       "    </tr>\n",
       "  </thead>\n",
       "  <tbody>\n",
       "    <tr>\n",
       "      <th>0</th>\n",
       "      <td>CUARTA</td>\n",
       "      <td>28</td>\n",
       "    </tr>\n",
       "    <tr>\n",
       "      <th>1</th>\n",
       "      <td>OTRA</td>\n",
       "      <td>39</td>\n",
       "    </tr>\n",
       "    <tr>\n",
       "      <th>2</th>\n",
       "      <td>PRIMERA</td>\n",
       "      <td>632</td>\n",
       "    </tr>\n",
       "    <tr>\n",
       "      <th>3</th>\n",
       "      <td>QUINTA</td>\n",
       "      <td>26</td>\n",
       "    </tr>\n",
       "    <tr>\n",
       "      <th>4</th>\n",
       "      <td>SEGUNDA</td>\n",
       "      <td>114</td>\n",
       "    </tr>\n",
       "    <tr>\n",
       "      <th>5</th>\n",
       "      <td>TERCERA</td>\n",
       "      <td>46</td>\n",
       "    </tr>\n",
       "  </tbody>\n",
       "</table>\n",
       "</div>"
      ],
      "text/plain": [
       "  Opcion_comipems  frecuency\n",
       "0          CUARTA         28\n",
       "1            OTRA         39\n",
       "2         PRIMERA        632\n",
       "3          QUINTA         26\n",
       "4         SEGUNDA        114\n",
       "5         TERCERA         46"
      ]
     },
     "execution_count": 65,
     "metadata": {},
     "output_type": "execute_result"
    }
   ],
   "source": [
    "freq_opcion = (habitos.groupby(\"Opcion_comipems\").agg(frecuency=(\"Opcion_comipems\", \"count\")).reset_index())\n",
    "freq_opcion"
   ]
  },
  {
   "cell_type": "code",
   "execution_count": 66,
   "metadata": {},
   "outputs": [
    {
     "data": {
      "image/png": "[encoded data removed]",
      "text/plain": [
       "<Figure size 432x288 with 1 Axes>"
      ]
     },
     "metadata": {
      "needs_background": "light"
     },
     "output_type": "display_data"
    }
   ],
   "source": [
    "plot=habitos[\"Opcion_comipems\"].value_counts().plot(kind=\"bar\",title=\"OPCION DE COMIPEMS\")"
   ]
  },
  {
   "cell_type": "code",
   "execution_count": 67,
   "metadata": {},
   "outputs": [
    {
     "data": {
      "text/plain": [
       "array(['EQUIPO DE COMPUTO, IMPRESORA E INTERNET', 'SOLO INTERNET',\n",
       "       'EQUIPO DE COMPUTO E INTERNET', 'EQUIPO DE COMPUTO', 'NINGUNA',\n",
       "       'EQUIPO DE COMPUTO, IMPRESORA',\n",
       "       'EQUIPO DE COMPUTO, IMPRESORA, INTERNET', 'IMPRESORA', 'INTERNET',\n",
       "       'EQUIPO DE COMPUTO, INTERNET', 'EQUIPO DE COMPUTO E IMPRESORA',\n",
       "       nan, 'IMPRESORA, INTERNET'], dtype=object)"
      ]
     },
     "execution_count": 67,
     "metadata": {},
     "output_type": "execute_result"
    }
   ],
   "source": [
    "habitos[\"Equipo_de_computo\"].unique()"
   ]
  },
  {
   "cell_type": "code",
   "execution_count": 68,
   "metadata": {},
   "outputs": [],
   "source": [
    "habitos[\"Equipo_de_computo\"]=habitos[\"Equipo_de_computo\"].replace([\"EQUIPO DE COMPUTO E INTERNET\"],\"EQUIPO DE COMPUTO, INTERNET\")\n",
    "habitos[\"Equipo_de_computo\"]=habitos[\"Equipo_de_computo\"].replace([\"EQUIPO DE COMPUTO E IMPRESORA\"],\"EQUIPO DE COMPUTO, IMPRESORA\")\n",
    "habitos[\"Equipo_de_computo\"]=habitos[\"Equipo_de_computo\"].replace([\"EQUIPO DE COMPUTO, IMPRESORA E INTERNET\"],\"EQUIPO DE COMPUTO, IMPRESORA, INTERNET\")\n",
    "habitos[\"Equipo_de_computo\"]=habitos[\"Equipo_de_computo\"].replace([\"SOLO INTERNET\"],\"INTERNET\")"
   ]
  },
  {
   "cell_type": "code",
   "execution_count": 69,
   "metadata": {},
   "outputs": [
    {
     "data": {
      "text/plain": [
       "array(['EQUIPO DE COMPUTO, IMPRESORA, INTERNET', 'INTERNET',\n",
       "       'EQUIPO DE COMPUTO, INTERNET', 'EQUIPO DE COMPUTO', 'NINGUNA',\n",
       "       'EQUIPO DE COMPUTO, IMPRESORA', 'IMPRESORA', nan,\n",
       "       'IMPRESORA, INTERNET'], dtype=object)"
      ]
     },
     "execution_count": 69,
     "metadata": {},
     "output_type": "execute_result"
    }
   ],
   "source": [
    "habitos[\"Equipo_de_computo\"].unique()"
   ]
  },
  {
   "cell_type": "code",
   "execution_count": 70,
   "metadata": {},
   "outputs": [
    {
     "data": {
      "text/html": [
       "<div>\n",
       "<style scoped>\n",
       "    .dataframe tbody tr th:only-of-type {\n",
       "        vertical-align: middle;\n",
       "    }\n",
       "\n",
       "    .dataframe tbody tr th {\n",
       "        vertical-align: top;\n",
       "    }\n",
       "\n",
       "    .dataframe thead th {\n",
       "        text-align: right;\n",
       "    }\n",
       "</style>\n",
       "<table border=\"1\" class=\"dataframe\">\n",
       "  <thead>\n",
       "    <tr style=\"text-align: right;\">\n",
       "      <th></th>\n",
       "      <th>Equipo_de_computo</th>\n",
       "      <th>frecuency</th>\n",
       "    </tr>\n",
       "  </thead>\n",
       "  <tbody>\n",
       "    <tr>\n",
       "      <th>0</th>\n",
       "      <td>EQUIPO DE COMPUTO</td>\n",
       "      <td>141</td>\n",
       "    </tr>\n",
       "    <tr>\n",
       "      <th>1</th>\n",
       "      <td>EQUIPO DE COMPUTO, IMPRESORA</td>\n",
       "      <td>23</td>\n",
       "    </tr>\n",
       "    <tr>\n",
       "      <th>2</th>\n",
       "      <td>EQUIPO DE COMPUTO, IMPRESORA, INTERNET</td>\n",
       "      <td>210</td>\n",
       "    </tr>\n",
       "    <tr>\n",
       "      <th>3</th>\n",
       "      <td>EQUIPO DE COMPUTO, INTERNET</td>\n",
       "      <td>195</td>\n",
       "    </tr>\n",
       "    <tr>\n",
       "      <th>4</th>\n",
       "      <td>IMPRESORA</td>\n",
       "      <td>8</td>\n",
       "    </tr>\n",
       "    <tr>\n",
       "      <th>5</th>\n",
       "      <td>IMPRESORA, INTERNET</td>\n",
       "      <td>1</td>\n",
       "    </tr>\n",
       "    <tr>\n",
       "      <th>6</th>\n",
       "      <td>INTERNET</td>\n",
       "      <td>209</td>\n",
       "    </tr>\n",
       "    <tr>\n",
       "      <th>7</th>\n",
       "      <td>NINGUNA</td>\n",
       "      <td>103</td>\n",
       "    </tr>\n",
       "  </tbody>\n",
       "</table>\n",
       "</div>"
      ],
      "text/plain": [
       "                        Equipo_de_computo  frecuency\n",
       "0                       EQUIPO DE COMPUTO        141\n",
       "1            EQUIPO DE COMPUTO, IMPRESORA         23\n",
       "2  EQUIPO DE COMPUTO, IMPRESORA, INTERNET        210\n",
       "3             EQUIPO DE COMPUTO, INTERNET        195\n",
       "4                               IMPRESORA          8\n",
       "5                     IMPRESORA, INTERNET          1\n",
       "6                                INTERNET        209\n",
       "7                                 NINGUNA        103"
      ]
     },
     "execution_count": 70,
     "metadata": {},
     "output_type": "execute_result"
    }
   ],
   "source": [
    "freq_computo = (habitos.groupby(\"Equipo_de_computo\").agg(frecuency=(\"Equipo_de_computo\", \"count\")).reset_index())\n",
    "freq_computo"
   ]
  },
  {
   "cell_type": "code",
   "execution_count": 71,
   "metadata": {},
   "outputs": [
    {
     "data": {
      "image/png": "[encoded data removed]",
      "text/plain": [
       "<Figure size 432x288 with 1 Axes>"
      ]
     },
     "metadata": {
      "needs_background": "light"
     },
     "output_type": "display_data"
    }
   ],
   "source": [
    "plot=habitos[\"Equipo_de_computo\"].value_counts().plot(kind=\"bar\",title=\"EQUIPO DE COMPUTO\")"
   ]
  },
  {
   "cell_type": "code",
   "execution_count": 72,
   "metadata": {},
   "outputs": [
    {
     "data": {
      "text/plain": [
       "array(['ESTILO PRAGMATICO', 'ESTILO REFLEXIVO', 'ESTILO ACTIVO',\n",
       "       'ESTILO TEORICO', 'REFLEXIVO', 'ACTIVO', 'ACTIVO, REFLEXIVO',\n",
       "       'PRAGMATICO', 'TEORICO', 'REFLEXIVO, TEORICO',\n",
       "       'REFLEXIVO, PRAGMATICO', 'TEORICO, PRAGMATICO',\n",
       "       'ACTIVO, PRAGMATICO', 'REFLEXIVO, TEORICO, PRAGMATICO',\n",
       "       'ACTIVO, REFLEXIVO, TEORICO, PRAGMATICO',\n",
       "       'ACTIVO, REFLEXIVO, PRAGMATICO', 'ACTIVO, TEORICO', nan],\n",
       "      dtype=object)"
      ]
     },
     "execution_count": 72,
     "metadata": {},
     "output_type": "execute_result"
    }
   ],
   "source": [
    "habitos[\"Honey_alonso\"].unique()"
   ]
  },
  {
   "cell_type": "code",
   "execution_count": 73,
   "metadata": {},
   "outputs": [],
   "source": [
    "habitos[\"Honey_alonso\"]=habitos[\"Honey_alonso\"].replace(['ACTIVO, TEORICO','ACTIVO', 'TEORICO',\"ESTILO ACTIVO\", 'ACTIVO, REFLEXIVO','ACTIVO, REFLEXIVO, PRAGMATICO', 'ACTIVO, PRAGMATICO', 'ACTIVO, REFLEXIVO, TEORICO, PRAGMATICO'],\"ACTIVO\")\n",
    "habitos[\"Honey_alonso\"]=habitos[\"Honey_alonso\"].replace([\"ESTILO PRAGMATICO\"],\"PRAGMATICO\")\n",
    "habitos[\"Honey_alonso\"]=habitos[\"Honey_alonso\"].replace([\"ESTILO REFLEXIVO\", 'REFLEXIVO, TEORICO', 'REFLEXIVO, TEORICO, PRAGMATICO', 'REFLEXIVO, PRAGMATICO'],\"REFLEXIVO\")\n",
    "habitos[\"Honey_alonso\"]=habitos[\"Honey_alonso\"].replace([\"ESTILO TEORICO\", 'TEORICO, PRAGMATICO'],\"TEORICO\")"
   ]
  },
  {
   "cell_type": "code",
   "execution_count": 74,
   "metadata": {},
   "outputs": [
    {
     "data": {
      "text/plain": [
       "array(['PRAGMATICO', 'REFLEXIVO', 'ACTIVO', 'TEORICO', nan], dtype=object)"
      ]
     },
     "execution_count": 74,
     "metadata": {},
     "output_type": "execute_result"
    }
   ],
   "source": [
    "habitos[\"Honey_alonso\"].unique()"
   ]
  },
  {
   "cell_type": "code",
   "execution_count": 75,
   "metadata": {},
   "outputs": [
    {
     "data": {
      "text/html": [
       "<div>\n",
       "<style scoped>\n",
       "    .dataframe tbody tr th:only-of-type {\n",
       "        vertical-align: middle;\n",
       "    }\n",
       "\n",
       "    .dataframe tbody tr th {\n",
       "        vertical-align: top;\n",
       "    }\n",
       "\n",
       "    .dataframe thead th {\n",
       "        text-align: right;\n",
       "    }\n",
       "</style>\n",
       "<table border=\"1\" class=\"dataframe\">\n",
       "  <thead>\n",
       "    <tr style=\"text-align: right;\">\n",
       "      <th></th>\n",
       "      <th>Honey_alonso</th>\n",
       "      <th>frecuency</th>\n",
       "    </tr>\n",
       "  </thead>\n",
       "  <tbody>\n",
       "    <tr>\n",
       "      <th>0</th>\n",
       "      <td>ACTIVO</td>\n",
       "      <td>272</td>\n",
       "    </tr>\n",
       "    <tr>\n",
       "      <th>1</th>\n",
       "      <td>PRAGMATICO</td>\n",
       "      <td>109</td>\n",
       "    </tr>\n",
       "    <tr>\n",
       "      <th>2</th>\n",
       "      <td>REFLEXIVO</td>\n",
       "      <td>189</td>\n",
       "    </tr>\n",
       "    <tr>\n",
       "      <th>3</th>\n",
       "      <td>TEORICO</td>\n",
       "      <td>88</td>\n",
       "    </tr>\n",
       "  </tbody>\n",
       "</table>\n",
       "</div>"
      ],
      "text/plain": [
       "  Honey_alonso  frecuency\n",
       "0       ACTIVO        272\n",
       "1   PRAGMATICO        109\n",
       "2    REFLEXIVO        189\n",
       "3      TEORICO         88"
      ]
     },
     "execution_count": 75,
     "metadata": {},
     "output_type": "execute_result"
    }
   ],
   "source": [
    "freq_honey = (habitos.groupby(\"Honey_alonso\").agg(frecuency=(\"Honey_alonso\", \"count\")).reset_index())\n",
    "freq_honey"
   ]
  },
  {
   "cell_type": "code",
   "execution_count": 76,
   "metadata": {},
   "outputs": [
    {
     "data": {
      "image/png": "[encoded data removed]",
      "text/plain": [
       "<Figure size 432x288 with 1 Axes>"
      ]
     },
     "metadata": {
      "needs_background": "light"
     },
     "output_type": "display_data"
    }
   ],
   "source": [
    "plot=habitos[\"Honey_alonso\"].value_counts().plot(kind=\"bar\",title=\"PRUEBA HONEY-ALONSO\")"
   ]
  },
  {
   "cell_type": "code",
   "execution_count": 77,
   "metadata": {},
   "outputs": [
    {
     "data": {
      "text/plain": [
       "array([nan, 'AUDITIVO', 'VISUAL', 'KINESTESICO', 'VISUAL, KINESTESICO',\n",
       "       'VISUAL, AUDITIVO, KINESTESICO', 'AUDITIVO, KINESTESICO',\n",
       "       'VISUAL, AUDITIVO', 'KINESTÉSICO', 'VISUAL, KINESTÉSICO',\n",
       "       'AUDITIVO, KINESTÉSICO'], dtype=object)"
      ]
     },
     "execution_count": 77,
     "metadata": {},
     "output_type": "execute_result"
    }
   ],
   "source": [
    "habitos[\"Canal_aprendizaje\"].unique()"
   ]
  },
  {
   "cell_type": "code",
   "execution_count": 78,
   "metadata": {},
   "outputs": [],
   "source": [
    "habitos[\"Canal_aprendizaje\"]=habitos[\"Canal_aprendizaje\"].replace([\"AUDITIVO, KINESTÉSICO\"],\"AUDITIVO, KINESTESICO\")\n",
    "habitos[\"Canal_aprendizaje\"]=habitos[\"Canal_aprendizaje\"].replace([\"KINESTÉSICO\"],\"KINESTESICO\")\n",
    "habitos[\"Canal_aprendizaje\"]=habitos[\"Canal_aprendizaje\"].replace([\"VISUAL, KINESTÉSICO\t\"],\"VISUAL, KINESTESICO\")"
   ]
  },
  {
   "cell_type": "code",
   "execution_count": 79,
   "metadata": {},
   "outputs": [
    {
     "data": {
      "text/plain": [
       "array([nan, 'AUDITIVO', 'VISUAL', 'KINESTESICO', 'VISUAL, KINESTESICO',\n",
       "       'VISUAL, AUDITIVO, KINESTESICO', 'AUDITIVO, KINESTESICO',\n",
       "       'VISUAL, AUDITIVO', 'VISUAL, KINESTÉSICO'], dtype=object)"
      ]
     },
     "execution_count": 79,
     "metadata": {},
     "output_type": "execute_result"
    }
   ],
   "source": [
    "habitos[\"Canal_aprendizaje\"].unique()"
   ]
  },
  {
   "cell_type": "code",
   "execution_count": 80,
   "metadata": {},
   "outputs": [],
   "source": [
    "habitos[\"Canal_aprendizaje\"]=habitos[\"Canal_aprendizaje\"].replace([\"AUDITIVO, KINESTESICO\"],\"AUDITIVO\")\n",
    "habitos[\"Canal_aprendizaje\"]=habitos[\"Canal_aprendizaje\"].replace(['VISUAL, KINESTESICO', 'VISUAL, AUDITIVO','VISUAL, KINESTÉSICO','VISUAL, AUDITIVO, KINESTESICO', 'VISUAL, AUDITIVO, KINESTESICO'],\"VISUAL\")\n"
   ]
  },
  {
   "cell_type": "code",
   "execution_count": 81,
   "metadata": {},
   "outputs": [
    {
     "data": {
      "text/plain": [
       "array([nan, 'AUDITIVO', 'VISUAL', 'KINESTESICO'], dtype=object)"
      ]
     },
     "execution_count": 81,
     "metadata": {},
     "output_type": "execute_result"
    }
   ],
   "source": [
    "habitos[\"Canal_aprendizaje\"].unique()\n"
   ]
  },
  {
   "cell_type": "code",
   "execution_count": 82,
   "metadata": {},
   "outputs": [
    {
     "data": {
      "text/html": [
       "<div>\n",
       "<style scoped>\n",
       "    .dataframe tbody tr th:only-of-type {\n",
       "        vertical-align: middle;\n",
       "    }\n",
       "\n",
       "    .dataframe tbody tr th {\n",
       "        vertical-align: top;\n",
       "    }\n",
       "\n",
       "    .dataframe thead th {\n",
       "        text-align: right;\n",
       "    }\n",
       "</style>\n",
       "<table border=\"1\" class=\"dataframe\">\n",
       "  <thead>\n",
       "    <tr style=\"text-align: right;\">\n",
       "      <th></th>\n",
       "      <th>Canal_aprendizaje</th>\n",
       "      <th>frecuency</th>\n",
       "    </tr>\n",
       "  </thead>\n",
       "  <tbody>\n",
       "    <tr>\n",
       "      <th>0</th>\n",
       "      <td>AUDITIVO</td>\n",
       "      <td>179</td>\n",
       "    </tr>\n",
       "    <tr>\n",
       "      <th>1</th>\n",
       "      <td>KINESTESICO</td>\n",
       "      <td>147</td>\n",
       "    </tr>\n",
       "    <tr>\n",
       "      <th>2</th>\n",
       "      <td>VISUAL</td>\n",
       "      <td>263</td>\n",
       "    </tr>\n",
       "  </tbody>\n",
       "</table>\n",
       "</div>"
      ],
      "text/plain": [
       "  Canal_aprendizaje  frecuency\n",
       "0          AUDITIVO        179\n",
       "1       KINESTESICO        147\n",
       "2            VISUAL        263"
      ]
     },
     "execution_count": 82,
     "metadata": {},
     "output_type": "execute_result"
    }
   ],
   "source": [
    "freq_canal = (habitos.groupby(\"Canal_aprendizaje\").agg(frecuency=(\"Canal_aprendizaje\", \"count\")).reset_index())\n",
    "freq_canal\n"
   ]
  },
  {
   "cell_type": "code",
   "execution_count": 83,
   "metadata": {},
   "outputs": [
    {
     "data": {
      "image/png": "[encoded data removed]",
      "text/plain": [
       "<Figure size 432x288 with 1 Axes>"
      ]
     },
     "metadata": {
      "needs_background": "light"
     },
     "output_type": "display_data"
    }
   ],
   "source": [
    "plot=habitos[\"Canal_aprendizaje\"].value_counts().plot(kind=\"bar\",title=\"CANAL DE APRENDIZAJE\")"
   ]
  },
  {
   "cell_type": "code",
   "execution_count": 84,
   "metadata": {},
   "outputs": [
    {
     "data": {
      "text/plain": [
       "array(['FUNCIONAL', 'DISFUNCIONAL', 'MODERADAMENTE FUNCIONAL',\n",
       "       'SEVERMENTE DISFUNCIONAL', nan, 'FAMILIA FUNCIONAL',\n",
       "       'FAMILIA DISFUNCIONAL', 'FAMILIA MODERADAMENTE FUNCIONAL',\n",
       "       'FAMILIA SEVERAMENTE DISFUNCIONAL'], dtype=object)"
      ]
     },
     "execution_count": 84,
     "metadata": {},
     "output_type": "execute_result"
    }
   ],
   "source": [
    "habitos[\"Funcionamiento_familiar\"].unique()"
   ]
  },
  {
   "cell_type": "code",
   "execution_count": 85,
   "metadata": {},
   "outputs": [],
   "source": [
    "habitos[\"Funcionamiento_familiar\"]=habitos[\"Funcionamiento_familiar\"].replace([\"FAMILIA FUNCIONAL\"],\"FUNCIONAL\")\n",
    "habitos[\"Funcionamiento_familiar\"]=habitos[\"Funcionamiento_familiar\"].replace([\"FAMILIA DISFUNCIONAL\"],\"DISFUNCIONAL\")\n",
    "habitos[\"Funcionamiento_familiar\"]=habitos[\"Funcionamiento_familiar\"].replace([\"FAMILIA MODERADAMENTE FUNCIONAL\"],\"MODERADAMENTE FUNCIONAL\")\n",
    "habitos[\"Funcionamiento_familiar\"]=habitos[\"Funcionamiento_familiar\"].replace([\"FAMILIA SEVERAMENTE DISFUNCIONAL\", \"SEVERMENTE DISFUNCIONAL\"],\"SEVERAMENTE DISFUNCIONAL\")\n"
   ]
  },
  {
   "cell_type": "code",
   "execution_count": 86,
   "metadata": {},
   "outputs": [
    {
     "data": {
      "text/plain": [
       "array(['FUNCIONAL', 'DISFUNCIONAL', 'MODERADAMENTE FUNCIONAL',\n",
       "       'SEVERAMENTE DISFUNCIONAL', nan], dtype=object)"
      ]
     },
     "execution_count": 86,
     "metadata": {},
     "output_type": "execute_result"
    }
   ],
   "source": [
    "habitos[\"Funcionamiento_familiar\"].unique()"
   ]
  },
  {
   "cell_type": "code",
   "execution_count": 87,
   "metadata": {},
   "outputs": [
    {
     "data": {
      "text/html": [
       "<div>\n",
       "<style scoped>\n",
       "    .dataframe tbody tr th:only-of-type {\n",
       "        vertical-align: middle;\n",
       "    }\n",
       "\n",
       "    .dataframe tbody tr th {\n",
       "        vertical-align: top;\n",
       "    }\n",
       "\n",
       "    .dataframe thead th {\n",
       "        text-align: right;\n",
       "    }\n",
       "</style>\n",
       "<table border=\"1\" class=\"dataframe\">\n",
       "  <thead>\n",
       "    <tr style=\"text-align: right;\">\n",
       "      <th></th>\n",
       "      <th>Funcionamiento_familiar</th>\n",
       "      <th>frecuency</th>\n",
       "    </tr>\n",
       "  </thead>\n",
       "  <tbody>\n",
       "    <tr>\n",
       "      <th>0</th>\n",
       "      <td>DISFUNCIONAL</td>\n",
       "      <td>47</td>\n",
       "    </tr>\n",
       "    <tr>\n",
       "      <th>1</th>\n",
       "      <td>FUNCIONAL</td>\n",
       "      <td>179</td>\n",
       "    </tr>\n",
       "    <tr>\n",
       "      <th>2</th>\n",
       "      <td>MODERADAMENTE FUNCIONAL</td>\n",
       "      <td>204</td>\n",
       "    </tr>\n",
       "    <tr>\n",
       "      <th>3</th>\n",
       "      <td>SEVERAMENTE DISFUNCIONAL</td>\n",
       "      <td>4</td>\n",
       "    </tr>\n",
       "  </tbody>\n",
       "</table>\n",
       "</div>"
      ],
      "text/plain": [
       "    Funcionamiento_familiar  frecuency\n",
       "0              DISFUNCIONAL         47\n",
       "1                 FUNCIONAL        179\n",
       "2   MODERADAMENTE FUNCIONAL        204\n",
       "3  SEVERAMENTE DISFUNCIONAL          4"
      ]
     },
     "execution_count": 87,
     "metadata": {},
     "output_type": "execute_result"
    }
   ],
   "source": [
    "freq_familia = (habitos.groupby(\"Funcionamiento_familiar\").agg(frecuency=(\"Funcionamiento_familiar\", \"count\")).reset_index())\n",
    "freq_familia"
   ]
  },
  {
   "cell_type": "code",
   "execution_count": 88,
   "metadata": {},
   "outputs": [
    {
     "data": {
      "image/png": "[encoded data removed]",
      "text/plain": [
       "<Figure size 432x288 with 1 Axes>"
      ]
     },
     "metadata": {
      "needs_background": "light"
     },
     "output_type": "display_data"
    }
   ],
   "source": [
    "plot=habitos[\"Funcionamiento_familiar\"].value_counts().plot(kind=\"bar\",title=\"FUNCIONAMIENTO FAMILIAR\")"
   ]
  },
  {
   "cell_type": "code",
   "execution_count": 89,
   "metadata": {},
   "outputs": [
    {
     "data": {
      "text/plain": [
       "array([nan, 'ALTA', 'MEDIA', 'BAJA', 'AUTOESTIMA MEDIA',\n",
       "       'BUENA AUTOESTIMA'], dtype=object)"
      ]
     },
     "execution_count": 89,
     "metadata": {},
     "output_type": "execute_result"
    }
   ],
   "source": [
    "habitos[\"Autoestima\"].unique()"
   ]
  },
  {
   "cell_type": "code",
   "execution_count": 90,
   "metadata": {},
   "outputs": [],
   "source": [
    "habitos[\"Autoestima\"]=habitos[\"Autoestima\"].replace([\"AUTOESTIMA MEDIA\"],\"MEDIA\")\n",
    "habitos[\"Autoestima\"]=habitos[\"Autoestima\"].replace([\"BUENA AUTOESTIMA\"],\"ALTA\")"
   ]
  },
  {
   "cell_type": "code",
   "execution_count": 91,
   "metadata": {},
   "outputs": [
    {
     "data": {
      "text/html": [
       "<div>\n",
       "<style scoped>\n",
       "    .dataframe tbody tr th:only-of-type {\n",
       "        vertical-align: middle;\n",
       "    }\n",
       "\n",
       "    .dataframe tbody tr th {\n",
       "        vertical-align: top;\n",
       "    }\n",
       "\n",
       "    .dataframe thead th {\n",
       "        text-align: right;\n",
       "    }\n",
       "</style>\n",
       "<table border=\"1\" class=\"dataframe\">\n",
       "  <thead>\n",
       "    <tr style=\"text-align: right;\">\n",
       "      <th></th>\n",
       "      <th>Autoestima</th>\n",
       "      <th>frecuency</th>\n",
       "    </tr>\n",
       "  </thead>\n",
       "  <tbody>\n",
       "    <tr>\n",
       "      <th>0</th>\n",
       "      <td>ALTA</td>\n",
       "      <td>309</td>\n",
       "    </tr>\n",
       "    <tr>\n",
       "      <th>1</th>\n",
       "      <td>BAJA</td>\n",
       "      <td>9</td>\n",
       "    </tr>\n",
       "    <tr>\n",
       "      <th>2</th>\n",
       "      <td>MEDIA</td>\n",
       "      <td>203</td>\n",
       "    </tr>\n",
       "  </tbody>\n",
       "</table>\n",
       "</div>"
      ],
      "text/plain": [
       "  Autoestima  frecuency\n",
       "0       ALTA        309\n",
       "1       BAJA          9\n",
       "2      MEDIA        203"
      ]
     },
     "execution_count": 91,
     "metadata": {},
     "output_type": "execute_result"
    }
   ],
   "source": [
    "freq_autoestima = (habitos.groupby(\"Autoestima\").agg(frecuency=(\"Autoestima\", \"count\")).reset_index())\n",
    "freq_autoestima"
   ]
  },
  {
   "cell_type": "code",
   "execution_count": 92,
   "metadata": {},
   "outputs": [
    {
     "data": {
      "image/png": "[encoded data removed]",
      "text/plain": [
       "<Figure size 432x288 with 1 Axes>"
      ]
     },
     "metadata": {
      "needs_background": "light"
     },
     "output_type": "display_data"
    }
   ],
   "source": [
    "plot=habitos[\"Autoestima\"].value_counts().plot(kind=\"bar\",title=\"AUTOESTIMA\")"
   ]
  },
  {
   "cell_type": "code",
   "execution_count": 93,
   "metadata": {},
   "outputs": [
    {
     "data": {
      "text/plain": [
       "array([nan, 'DISTRACTORES DURANTE EL ESTUDIO',\n",
       "       'ACTITUDES Y CONDUCTAS PRODUCTIVAS ANTE EL ESTUDIO',\n",
       "       'DISTRIBUCIÓN DE TIEMPO', 'OPTIMIZACIÓN DE LA LECTURA',\n",
       "       'CÓMO PREPARAR UN EXAMEN', 'CÓMO TOMAR NOTAS EN CLASE',\n",
       "       'MOTIVACIÓN PARA EL ESTUDIO', 'DISTRACTORES DURTANTE EL ESTUDIO',\n",
       "       'DISTRIBUCIÓN DEL TIEMPO',\n",
       "       'DISTRACTORES DURANTE EL ESTUDIO ANTE EL ESTUDIO',\n",
       "       'MOTIVACIÓN PARA EL ESTUDIO Y CONDUCTAS PRODUCTIVAS ANTE EL ESTUDIO',\n",
       "       'DISTRIBUCIÓN DEL TIEMPO ESTUDIO', 'DISTRIBUCIÓN DEL TIEMPO '],\n",
       "      dtype=object)"
      ]
     },
     "execution_count": 93,
     "metadata": {},
     "output_type": "execute_result"
    }
   ],
   "source": [
    "habitos[\"Habitos_de_estudio\"].unique()"
   ]
  },
  {
   "cell_type": "code",
   "execution_count": 94,
   "metadata": {},
   "outputs": [],
   "source": [
    "habitos[\"Habitos_de_estudio\"]=habitos[\"Habitos_de_estudio\"].replace([\"DISTRACTORES DURANTE EL ESTUDIO ANTE EL ESTUDIO\"],\"DISTRACTORES DURANTE EL ESTUDIO\")\n",
    "\n",
    "habitos[\"Habitos_de_estudio\"]=habitos[\"Habitos_de_estudio\"].replace(['MOTIVACIÓN PARA EL ESTUDIO Y CONDUCTAS PRODUCTIVAS ANTE EL ESTUDIO', \"ACTITUDES Y CONDUCTAS PRODUCTIVAS ANTE EL ESTUDIO\"],'CONDUCTAS PRODUCTIVAS ANTE EL ESTUDIO')\n",
    "\n",
    "habitos[\"Habitos_de_estudio\"]=habitos[\"Habitos_de_estudio\"].replace([\"DISTRIBUCIÓN DEL TIEMPO ESTUDIO\", \"DISTRIBUCIÓN DEL TIEMPO\", \"DISTRIBUCIÓN DEL TIEMPO\", 'DISTRIBUCIÓN DEL TIEMPO '],\"DISTRIBUCION DEL TIEMPO\")"
   ]
  },
  {
   "cell_type": "code",
   "execution_count": 95,
   "metadata": {},
   "outputs": [
    {
     "data": {
      "text/plain": [
       "array([nan, 'DISTRACTORES DURANTE EL ESTUDIO',\n",
       "       'CONDUCTAS PRODUCTIVAS ANTE EL ESTUDIO', 'DISTRIBUCIÓN DE TIEMPO',\n",
       "       'OPTIMIZACIÓN DE LA LECTURA', 'CÓMO PREPARAR UN EXAMEN',\n",
       "       'CÓMO TOMAR NOTAS EN CLASE', 'MOTIVACIÓN PARA EL ESTUDIO',\n",
       "       'DISTRACTORES DURTANTE EL ESTUDIO', 'DISTRIBUCION DEL TIEMPO'],\n",
       "      dtype=object)"
      ]
     },
     "execution_count": 95,
     "metadata": {},
     "output_type": "execute_result"
    }
   ],
   "source": [
    "habitos[\"Habitos_de_estudio\"].unique()"
   ]
  },
  {
   "cell_type": "code",
   "execution_count": 96,
   "metadata": {},
   "outputs": [
    {
     "data": {
      "text/html": [
       "<div>\n",
       "<style scoped>\n",
       "    .dataframe tbody tr th:only-of-type {\n",
       "        vertical-align: middle;\n",
       "    }\n",
       "\n",
       "    .dataframe tbody tr th {\n",
       "        vertical-align: top;\n",
       "    }\n",
       "\n",
       "    .dataframe thead th {\n",
       "        text-align: right;\n",
       "    }\n",
       "</style>\n",
       "<table border=\"1\" class=\"dataframe\">\n",
       "  <thead>\n",
       "    <tr style=\"text-align: right;\">\n",
       "      <th></th>\n",
       "      <th>Habitos_de_estudio</th>\n",
       "      <th>frecuency</th>\n",
       "    </tr>\n",
       "  </thead>\n",
       "  <tbody>\n",
       "    <tr>\n",
       "      <th>0</th>\n",
       "      <td>CONDUCTAS PRODUCTIVAS ANTE EL ESTUDIO</td>\n",
       "      <td>10</td>\n",
       "    </tr>\n",
       "    <tr>\n",
       "      <th>1</th>\n",
       "      <td>CÓMO PREPARAR UN EXAMEN</td>\n",
       "      <td>12</td>\n",
       "    </tr>\n",
       "    <tr>\n",
       "      <th>2</th>\n",
       "      <td>CÓMO TOMAR NOTAS EN CLASE</td>\n",
       "      <td>11</td>\n",
       "    </tr>\n",
       "    <tr>\n",
       "      <th>3</th>\n",
       "      <td>DISTRACTORES DURANTE EL ESTUDIO</td>\n",
       "      <td>64</td>\n",
       "    </tr>\n",
       "    <tr>\n",
       "      <th>4</th>\n",
       "      <td>DISTRACTORES DURTANTE EL ESTUDIO</td>\n",
       "      <td>16</td>\n",
       "    </tr>\n",
       "    <tr>\n",
       "      <th>5</th>\n",
       "      <td>DISTRIBUCION DEL TIEMPO</td>\n",
       "      <td>143</td>\n",
       "    </tr>\n",
       "    <tr>\n",
       "      <th>6</th>\n",
       "      <td>DISTRIBUCIÓN DE TIEMPO</td>\n",
       "      <td>49</td>\n",
       "    </tr>\n",
       "    <tr>\n",
       "      <th>7</th>\n",
       "      <td>MOTIVACIÓN PARA EL ESTUDIO</td>\n",
       "      <td>19</td>\n",
       "    </tr>\n",
       "    <tr>\n",
       "      <th>8</th>\n",
       "      <td>OPTIMIZACIÓN DE LA LECTURA</td>\n",
       "      <td>33</td>\n",
       "    </tr>\n",
       "  </tbody>\n",
       "</table>\n",
       "</div>"
      ],
      "text/plain": [
       "                      Habitos_de_estudio  frecuency\n",
       "0  CONDUCTAS PRODUCTIVAS ANTE EL ESTUDIO         10\n",
       "1                CÓMO PREPARAR UN EXAMEN         12\n",
       "2              CÓMO TOMAR NOTAS EN CLASE         11\n",
       "3        DISTRACTORES DURANTE EL ESTUDIO         64\n",
       "4       DISTRACTORES DURTANTE EL ESTUDIO         16\n",
       "5                DISTRIBUCION DEL TIEMPO        143\n",
       "6                 DISTRIBUCIÓN DE TIEMPO         49\n",
       "7             MOTIVACIÓN PARA EL ESTUDIO         19\n",
       "8             OPTIMIZACIÓN DE LA LECTURA         33"
      ]
     },
     "execution_count": 96,
     "metadata": {},
     "output_type": "execute_result"
    }
   ],
   "source": [
    "freq_habitos = (habitos.groupby(\"Habitos_de_estudio\").agg(frecuency=(\"Habitos_de_estudio\", \"count\")).reset_index())\n",
    "freq_habitos"
   ]
  },
  {
   "cell_type": "code",
   "execution_count": 97,
   "metadata": {},
   "outputs": [
    {
     "data": {
      "image/png": "[encoded data removed]",
      "text/plain": [
       "<Figure size 432x288 with 1 Axes>"
      ]
     },
     "metadata": {
      "needs_background": "light"
     },
     "output_type": "display_data"
    }
   ],
   "source": [
    "plot=habitos[\"Habitos_de_estudio\"].value_counts().plot(kind=\"bar\",title=\"HABITOS DE ESTUDIO\")"
   ]
  },
  {
   "cell_type": "code",
   "execution_count": 98,
   "metadata": {},
   "outputs": [],
   "source": [
    "habitos_1=pd.get_dummies(habitos,columns=[\"Grupo\", \"Edad\", \"Promedio_secundaria\",\"Carrera\",\"Genero\", \"Municipio\", \"Grado_estudios_p\", \"Ocupacion_p\", \"Grado_estudios_m\",\n",
    "                                \"Ocupacion_m\",\"Ingreso_mensual\", \"Aciertos_comipems\", \"Opcion_comipems\", \"Equipo_de_computo\",\n",
    "                                 \"Honey_alonso\", \"Canal_aprendizaje\", \"Funcionamiento_familiar\", \n",
    "                                 \"Autoestima\"])"
   ]
  },
  {
   "cell_type": "code",
   "execution_count": 99,
   "metadata": {},
   "outputs": [
    {
     "data": {
      "text/html": [
       "<div>\n",
       "<style scoped>\n",
       "    .dataframe tbody tr th:only-of-type {\n",
       "        vertical-align: middle;\n",
       "    }\n",
       "\n",
       "    .dataframe tbody tr th {\n",
       "        vertical-align: top;\n",
       "    }\n",
       "\n",
       "    .dataframe thead th {\n",
       "        text-align: right;\n",
       "    }\n",
       "</style>\n",
       "<table border=\"1\" class=\"dataframe\">\n",
       "  <thead>\n",
       "    <tr style=\"text-align: right;\">\n",
       "      <th></th>\n",
       "      <th>Habitos_de_estudio</th>\n",
       "      <th>Grupo_105</th>\n",
       "      <th>Grupo_106</th>\n",
       "      <th>Grupo_107</th>\n",
       "      <th>Grupo_108</th>\n",
       "      <th>Grupo_109</th>\n",
       "      <th>Grupo_110</th>\n",
       "      <th>Grupo_111</th>\n",
       "      <th>Grupo_112</th>\n",
       "      <th>Grupo_113</th>\n",
       "      <th>...</th>\n",
       "      <th>Canal_aprendizaje_AUDITIVO</th>\n",
       "      <th>Canal_aprendizaje_KINESTESICO</th>\n",
       "      <th>Canal_aprendizaje_VISUAL</th>\n",
       "      <th>Funcionamiento_familiar_DISFUNCIONAL</th>\n",
       "      <th>Funcionamiento_familiar_FUNCIONAL</th>\n",
       "      <th>Funcionamiento_familiar_MODERADAMENTE FUNCIONAL</th>\n",
       "      <th>Funcionamiento_familiar_SEVERAMENTE DISFUNCIONAL</th>\n",
       "      <th>Autoestima_ALTA</th>\n",
       "      <th>Autoestima_BAJA</th>\n",
       "      <th>Autoestima_MEDIA</th>\n",
       "    </tr>\n",
       "  </thead>\n",
       "  <tbody>\n",
       "    <tr>\n",
       "      <th>0</th>\n",
       "      <td>NaN</td>\n",
       "      <td>1</td>\n",
       "      <td>0</td>\n",
       "      <td>0</td>\n",
       "      <td>0</td>\n",
       "      <td>0</td>\n",
       "      <td>0</td>\n",
       "      <td>0</td>\n",
       "      <td>0</td>\n",
       "      <td>0</td>\n",
       "      <td>...</td>\n",
       "      <td>0</td>\n",
       "      <td>0</td>\n",
       "      <td>0</td>\n",
       "      <td>0</td>\n",
       "      <td>1</td>\n",
       "      <td>0</td>\n",
       "      <td>0</td>\n",
       "      <td>0</td>\n",
       "      <td>0</td>\n",
       "      <td>0</td>\n",
       "    </tr>\n",
       "    <tr>\n",
       "      <th>1</th>\n",
       "      <td>NaN</td>\n",
       "      <td>1</td>\n",
       "      <td>0</td>\n",
       "      <td>0</td>\n",
       "      <td>0</td>\n",
       "      <td>0</td>\n",
       "      <td>0</td>\n",
       "      <td>0</td>\n",
       "      <td>0</td>\n",
       "      <td>0</td>\n",
       "      <td>...</td>\n",
       "      <td>0</td>\n",
       "      <td>0</td>\n",
       "      <td>0</td>\n",
       "      <td>1</td>\n",
       "      <td>0</td>\n",
       "      <td>0</td>\n",
       "      <td>0</td>\n",
       "      <td>0</td>\n",
       "      <td>0</td>\n",
       "      <td>0</td>\n",
       "    </tr>\n",
       "    <tr>\n",
       "      <th>2</th>\n",
       "      <td>NaN</td>\n",
       "      <td>1</td>\n",
       "      <td>0</td>\n",
       "      <td>0</td>\n",
       "      <td>0</td>\n",
       "      <td>0</td>\n",
       "      <td>0</td>\n",
       "      <td>0</td>\n",
       "      <td>0</td>\n",
       "      <td>0</td>\n",
       "      <td>...</td>\n",
       "      <td>0</td>\n",
       "      <td>0</td>\n",
       "      <td>0</td>\n",
       "      <td>1</td>\n",
       "      <td>0</td>\n",
       "      <td>0</td>\n",
       "      <td>0</td>\n",
       "      <td>0</td>\n",
       "      <td>0</td>\n",
       "      <td>0</td>\n",
       "    </tr>\n",
       "    <tr>\n",
       "      <th>3</th>\n",
       "      <td>NaN</td>\n",
       "      <td>1</td>\n",
       "      <td>0</td>\n",
       "      <td>0</td>\n",
       "      <td>0</td>\n",
       "      <td>0</td>\n",
       "      <td>0</td>\n",
       "      <td>0</td>\n",
       "      <td>0</td>\n",
       "      <td>0</td>\n",
       "      <td>...</td>\n",
       "      <td>0</td>\n",
       "      <td>0</td>\n",
       "      <td>0</td>\n",
       "      <td>0</td>\n",
       "      <td>1</td>\n",
       "      <td>0</td>\n",
       "      <td>0</td>\n",
       "      <td>0</td>\n",
       "      <td>0</td>\n",
       "      <td>0</td>\n",
       "    </tr>\n",
       "    <tr>\n",
       "      <th>4</th>\n",
       "      <td>NaN</td>\n",
       "      <td>1</td>\n",
       "      <td>0</td>\n",
       "      <td>0</td>\n",
       "      <td>0</td>\n",
       "      <td>0</td>\n",
       "      <td>0</td>\n",
       "      <td>0</td>\n",
       "      <td>0</td>\n",
       "      <td>0</td>\n",
       "      <td>...</td>\n",
       "      <td>0</td>\n",
       "      <td>0</td>\n",
       "      <td>0</td>\n",
       "      <td>0</td>\n",
       "      <td>1</td>\n",
       "      <td>0</td>\n",
       "      <td>0</td>\n",
       "      <td>0</td>\n",
       "      <td>0</td>\n",
       "      <td>0</td>\n",
       "    </tr>\n",
       "  </tbody>\n",
       "</table>\n",
       "<p>5 rows × 146 columns</p>\n",
       "</div>"
      ],
      "text/plain": [
       "  Habitos_de_estudio  Grupo_105  Grupo_106  Grupo_107  Grupo_108  Grupo_109  \\\n",
       "0                NaN          1          0          0          0          0   \n",
       "1                NaN          1          0          0          0          0   \n",
       "2                NaN          1          0          0          0          0   \n",
       "3                NaN          1          0          0          0          0   \n",
       "4                NaN          1          0          0          0          0   \n",
       "\n",
       "   Grupo_110  Grupo_111  Grupo_112  Grupo_113  ...  \\\n",
       "0          0          0          0          0  ...   \n",
       "1          0          0          0          0  ...   \n",
       "2          0          0          0          0  ...   \n",
       "3          0          0          0          0  ...   \n",
       "4          0          0          0          0  ...   \n",
       "\n",
       "   Canal_aprendizaje_AUDITIVO  Canal_aprendizaje_KINESTESICO  \\\n",
       "0                           0                              0   \n",
       "1                           0                              0   \n",
       "2                           0                              0   \n",
       "3                           0                              0   \n",
       "4                           0                              0   \n",
       "\n",
       "   Canal_aprendizaje_VISUAL  Funcionamiento_familiar_DISFUNCIONAL  \\\n",
       "0                         0                                     0   \n",
       "1                         0                                     1   \n",
       "2                         0                                     1   \n",
       "3                         0                                     0   \n",
       "4                         0                                     0   \n",
       "\n",
       "   Funcionamiento_familiar_FUNCIONAL  \\\n",
       "0                                  1   \n",
       "1                                  0   \n",
       "2                                  0   \n",
       "3                                  1   \n",
       "4                                  1   \n",
       "\n",
       "   Funcionamiento_familiar_MODERADAMENTE FUNCIONAL  \\\n",
       "0                                                0   \n",
       "1                                                0   \n",
       "2                                                0   \n",
       "3                                                0   \n",
       "4                                                0   \n",
       "\n",
       "   Funcionamiento_familiar_SEVERAMENTE DISFUNCIONAL  Autoestima_ALTA  \\\n",
       "0                                                 0                0   \n",
       "1                                                 0                0   \n",
       "2                                                 0                0   \n",
       "3                                                 0                0   \n",
       "4                                                 0                0   \n",
       "\n",
       "   Autoestima_BAJA  Autoestima_MEDIA  \n",
       "0                0                 0  \n",
       "1                0                 0  \n",
       "2                0                 0  \n",
       "3                0                 0  \n",
       "4                0                 0  \n",
       "\n",
       "[5 rows x 146 columns]"
      ]
     },
     "execution_count": 99,
     "metadata": {},
     "output_type": "execute_result"
    }
   ],
   "source": [
    "habitos_1.head(5)"
   ]
  },
  {
   "cell_type": "code",
   "execution_count": 100,
   "metadata": {},
   "outputs": [],
   "source": [
    "habitos_1[\"Habitos_de_estudio\"]=habitos_1.astype(str)"
   ]
  },
  {
   "cell_type": "code",
   "execution_count": 101,
   "metadata": {},
   "outputs": [
    {
     "data": {
      "text/plain": [
       "array(['nan', 'DISTRACTORES DURANTE EL ESTUDIO',\n",
       "       'CONDUCTAS PRODUCTIVAS ANTE EL ESTUDIO', 'DISTRIBUCIÓN DE TIEMPO',\n",
       "       'OPTIMIZACIÓN DE LA LECTURA', 'CÓMO PREPARAR UN EXAMEN',\n",
       "       'CÓMO TOMAR NOTAS EN CLASE', 'MOTIVACIÓN PARA EL ESTUDIO',\n",
       "       'DISTRACTORES DURTANTE EL ESTUDIO', 'DISTRIBUCION DEL TIEMPO'],\n",
       "      dtype=object)"
      ]
     },
     "execution_count": 101,
     "metadata": {},
     "output_type": "execute_result"
    }
   ],
   "source": [
    "habitos_1.Habitos_de_estudio.unique()"
   ]
  },
  {
   "cell_type": "code",
   "execution_count": 102,
   "metadata": {},
   "outputs": [],
   "source": [
    "encoder = LabelEncoder()"
   ]
  },
  {
   "cell_type": "code",
   "execution_count": 103,
   "metadata": {},
   "outputs": [],
   "source": [
    "habitos_1[\"Habitos_de_estudio\"] = encoder.fit_transform(habitos_1[\"Habitos_de_estudio\"])"
   ]
  },
  {
   "cell_type": "code",
   "execution_count": 104,
   "metadata": {},
   "outputs": [
    {
     "data": {
      "text/html": [
       "<div>\n",
       "<style scoped>\n",
       "    .dataframe tbody tr th:only-of-type {\n",
       "        vertical-align: middle;\n",
       "    }\n",
       "\n",
       "    .dataframe tbody tr th {\n",
       "        vertical-align: top;\n",
       "    }\n",
       "\n",
       "    .dataframe thead th {\n",
       "        text-align: right;\n",
       "    }\n",
       "</style>\n",
       "<table border=\"1\" class=\"dataframe\">\n",
       "  <thead>\n",
       "    <tr style=\"text-align: right;\">\n",
       "      <th></th>\n",
       "      <th>Habitos_de_estudio</th>\n",
       "      <th>Grupo_105</th>\n",
       "      <th>Grupo_106</th>\n",
       "      <th>Grupo_107</th>\n",
       "      <th>Grupo_108</th>\n",
       "      <th>Grupo_109</th>\n",
       "      <th>Grupo_110</th>\n",
       "      <th>Grupo_111</th>\n",
       "      <th>Grupo_112</th>\n",
       "      <th>Grupo_113</th>\n",
       "      <th>...</th>\n",
       "      <th>Canal_aprendizaje_AUDITIVO</th>\n",
       "      <th>Canal_aprendizaje_KINESTESICO</th>\n",
       "      <th>Canal_aprendizaje_VISUAL</th>\n",
       "      <th>Funcionamiento_familiar_DISFUNCIONAL</th>\n",
       "      <th>Funcionamiento_familiar_FUNCIONAL</th>\n",
       "      <th>Funcionamiento_familiar_MODERADAMENTE FUNCIONAL</th>\n",
       "      <th>Funcionamiento_familiar_SEVERAMENTE DISFUNCIONAL</th>\n",
       "      <th>Autoestima_ALTA</th>\n",
       "      <th>Autoestima_BAJA</th>\n",
       "      <th>Autoestima_MEDIA</th>\n",
       "    </tr>\n",
       "  </thead>\n",
       "  <tbody>\n",
       "    <tr>\n",
       "      <th>0</th>\n",
       "      <td>9</td>\n",
       "      <td>1</td>\n",
       "      <td>0</td>\n",
       "      <td>0</td>\n",
       "      <td>0</td>\n",
       "      <td>0</td>\n",
       "      <td>0</td>\n",
       "      <td>0</td>\n",
       "      <td>0</td>\n",
       "      <td>0</td>\n",
       "      <td>...</td>\n",
       "      <td>0</td>\n",
       "      <td>0</td>\n",
       "      <td>0</td>\n",
       "      <td>0</td>\n",
       "      <td>1</td>\n",
       "      <td>0</td>\n",
       "      <td>0</td>\n",
       "      <td>0</td>\n",
       "      <td>0</td>\n",
       "      <td>0</td>\n",
       "    </tr>\n",
       "    <tr>\n",
       "      <th>1</th>\n",
       "      <td>9</td>\n",
       "      <td>1</td>\n",
       "      <td>0</td>\n",
       "      <td>0</td>\n",
       "      <td>0</td>\n",
       "      <td>0</td>\n",
       "      <td>0</td>\n",
       "      <td>0</td>\n",
       "      <td>0</td>\n",
       "      <td>0</td>\n",
       "      <td>...</td>\n",
       "      <td>0</td>\n",
       "      <td>0</td>\n",
       "      <td>0</td>\n",
       "      <td>1</td>\n",
       "      <td>0</td>\n",
       "      <td>0</td>\n",
       "      <td>0</td>\n",
       "      <td>0</td>\n",
       "      <td>0</td>\n",
       "      <td>0</td>\n",
       "    </tr>\n",
       "    <tr>\n",
       "      <th>2</th>\n",
       "      <td>9</td>\n",
       "      <td>1</td>\n",
       "      <td>0</td>\n",
       "      <td>0</td>\n",
       "      <td>0</td>\n",
       "      <td>0</td>\n",
       "      <td>0</td>\n",
       "      <td>0</td>\n",
       "      <td>0</td>\n",
       "      <td>0</td>\n",
       "      <td>...</td>\n",
       "      <td>0</td>\n",
       "      <td>0</td>\n",
       "      <td>0</td>\n",
       "      <td>1</td>\n",
       "      <td>0</td>\n",
       "      <td>0</td>\n",
       "      <td>0</td>\n",
       "      <td>0</td>\n",
       "      <td>0</td>\n",
       "      <td>0</td>\n",
       "    </tr>\n",
       "    <tr>\n",
       "      <th>3</th>\n",
       "      <td>9</td>\n",
       "      <td>1</td>\n",
       "      <td>0</td>\n",
       "      <td>0</td>\n",
       "      <td>0</td>\n",
       "      <td>0</td>\n",
       "      <td>0</td>\n",
       "      <td>0</td>\n",
       "      <td>0</td>\n",
       "      <td>0</td>\n",
       "      <td>...</td>\n",
       "      <td>0</td>\n",
       "      <td>0</td>\n",
       "      <td>0</td>\n",
       "      <td>0</td>\n",
       "      <td>1</td>\n",
       "      <td>0</td>\n",
       "      <td>0</td>\n",
       "      <td>0</td>\n",
       "      <td>0</td>\n",
       "      <td>0</td>\n",
       "    </tr>\n",
       "    <tr>\n",
       "      <th>4</th>\n",
       "      <td>9</td>\n",
       "      <td>1</td>\n",
       "      <td>0</td>\n",
       "      <td>0</td>\n",
       "      <td>0</td>\n",
       "      <td>0</td>\n",
       "      <td>0</td>\n",
       "      <td>0</td>\n",
       "      <td>0</td>\n",
       "      <td>0</td>\n",
       "      <td>...</td>\n",
       "      <td>0</td>\n",
       "      <td>0</td>\n",
       "      <td>0</td>\n",
       "      <td>0</td>\n",
       "      <td>1</td>\n",
       "      <td>0</td>\n",
       "      <td>0</td>\n",
       "      <td>0</td>\n",
       "      <td>0</td>\n",
       "      <td>0</td>\n",
       "    </tr>\n",
       "  </tbody>\n",
       "</table>\n",
       "<p>5 rows × 146 columns</p>\n",
       "</div>"
      ],
      "text/plain": [
       "   Habitos_de_estudio  Grupo_105  Grupo_106  Grupo_107  Grupo_108  Grupo_109  \\\n",
       "0                   9          1          0          0          0          0   \n",
       "1                   9          1          0          0          0          0   \n",
       "2                   9          1          0          0          0          0   \n",
       "3                   9          1          0          0          0          0   \n",
       "4                   9          1          0          0          0          0   \n",
       "\n",
       "   Grupo_110  Grupo_111  Grupo_112  Grupo_113  ...  \\\n",
       "0          0          0          0          0  ...   \n",
       "1          0          0          0          0  ...   \n",
       "2          0          0          0          0  ...   \n",
       "3          0          0          0          0  ...   \n",
       "4          0          0          0          0  ...   \n",
       "\n",
       "   Canal_aprendizaje_AUDITIVO  Canal_aprendizaje_KINESTESICO  \\\n",
       "0                           0                              0   \n",
       "1                           0                              0   \n",
       "2                           0                              0   \n",
       "3                           0                              0   \n",
       "4                           0                              0   \n",
       "\n",
       "   Canal_aprendizaje_VISUAL  Funcionamiento_familiar_DISFUNCIONAL  \\\n",
       "0                         0                                     0   \n",
       "1                         0                                     1   \n",
       "2                         0                                     1   \n",
       "3                         0                                     0   \n",
       "4                         0                                     0   \n",
       "\n",
       "   Funcionamiento_familiar_FUNCIONAL  \\\n",
       "0                                  1   \n",
       "1                                  0   \n",
       "2                                  0   \n",
       "3                                  1   \n",
       "4                                  1   \n",
       "\n",
       "   Funcionamiento_familiar_MODERADAMENTE FUNCIONAL  \\\n",
       "0                                                0   \n",
       "1                                                0   \n",
       "2                                                0   \n",
       "3                                                0   \n",
       "4                                                0   \n",
       "\n",
       "   Funcionamiento_familiar_SEVERAMENTE DISFUNCIONAL  Autoestima_ALTA  \\\n",
       "0                                                 0                0   \n",
       "1                                                 0                0   \n",
       "2                                                 0                0   \n",
       "3                                                 0                0   \n",
       "4                                                 0                0   \n",
       "\n",
       "   Autoestima_BAJA  Autoestima_MEDIA  \n",
       "0                0                 0  \n",
       "1                0                 0  \n",
       "2                0                 0  \n",
       "3                0                 0  \n",
       "4                0                 0  \n",
       "\n",
       "[5 rows x 146 columns]"
      ]
     },
     "execution_count": 104,
     "metadata": {},
     "output_type": "execute_result"
    }
   ],
   "source": [
    "habitos_1.head()"
   ]
  },
  {
   "cell_type": "code",
   "execution_count": 105,
   "metadata": {},
   "outputs": [
    {
     "data": {
      "text/plain": [
       "array([9, 3, 0, 6, 8, 1, 2, 7, 4, 5])"
      ]
     },
     "execution_count": 105,
     "metadata": {},
     "output_type": "execute_result"
    }
   ],
   "source": [
    "habitos_1.Habitos_de_estudio.unique()"
   ]
  },
  {
   "cell_type": "code",
   "execution_count": 106,
   "metadata": {},
   "outputs": [
    {
     "data": {
      "text/html": [
       "<div>\n",
       "<style scoped>\n",
       "    .dataframe tbody tr th:only-of-type {\n",
       "        vertical-align: middle;\n",
       "    }\n",
       "\n",
       "    .dataframe tbody tr th {\n",
       "        vertical-align: top;\n",
       "    }\n",
       "\n",
       "    .dataframe thead th {\n",
       "        text-align: right;\n",
       "    }\n",
       "</style>\n",
       "<table border=\"1\" class=\"dataframe\">\n",
       "  <thead>\n",
       "    <tr style=\"text-align: right;\">\n",
       "      <th></th>\n",
       "      <th>Habitos_de_estudio</th>\n",
       "      <th>frecuency</th>\n",
       "    </tr>\n",
       "  </thead>\n",
       "  <tbody>\n",
       "    <tr>\n",
       "      <th>0</th>\n",
       "      <td>0</td>\n",
       "      <td>10</td>\n",
       "    </tr>\n",
       "    <tr>\n",
       "      <th>1</th>\n",
       "      <td>1</td>\n",
       "      <td>12</td>\n",
       "    </tr>\n",
       "    <tr>\n",
       "      <th>2</th>\n",
       "      <td>2</td>\n",
       "      <td>11</td>\n",
       "    </tr>\n",
       "    <tr>\n",
       "      <th>3</th>\n",
       "      <td>3</td>\n",
       "      <td>64</td>\n",
       "    </tr>\n",
       "    <tr>\n",
       "      <th>4</th>\n",
       "      <td>4</td>\n",
       "      <td>16</td>\n",
       "    </tr>\n",
       "    <tr>\n",
       "      <th>5</th>\n",
       "      <td>5</td>\n",
       "      <td>143</td>\n",
       "    </tr>\n",
       "    <tr>\n",
       "      <th>6</th>\n",
       "      <td>6</td>\n",
       "      <td>49</td>\n",
       "    </tr>\n",
       "    <tr>\n",
       "      <th>7</th>\n",
       "      <td>7</td>\n",
       "      <td>19</td>\n",
       "    </tr>\n",
       "    <tr>\n",
       "      <th>8</th>\n",
       "      <td>8</td>\n",
       "      <td>33</td>\n",
       "    </tr>\n",
       "    <tr>\n",
       "      <th>9</th>\n",
       "      <td>9</td>\n",
       "      <td>681</td>\n",
       "    </tr>\n",
       "  </tbody>\n",
       "</table>\n",
       "</div>"
      ],
      "text/plain": [
       "   Habitos_de_estudio  frecuency\n",
       "0                   0         10\n",
       "1                   1         12\n",
       "2                   2         11\n",
       "3                   3         64\n",
       "4                   4         16\n",
       "5                   5        143\n",
       "6                   6         49\n",
       "7                   7         19\n",
       "8                   8         33\n",
       "9                   9        681"
      ]
     },
     "execution_count": 106,
     "metadata": {},
     "output_type": "execute_result"
    }
   ],
   "source": [
    "freq_habitos = (habitos_1.groupby(\"Habitos_de_estudio\").agg(frecuency=(\"Habitos_de_estudio\", \"count\")).reset_index())\n",
    "freq_habitos"
   ]
  },
  {
   "cell_type": "code",
   "execution_count": 107,
   "metadata": {},
   "outputs": [
    {
     "data": {
      "text/plain": [
       "array([[<AxesSubplot:title={'center':'Habitos_de_estudio'}>]],\n",
       "      dtype=object)"
      ]
     },
     "execution_count": 107,
     "metadata": {},
     "output_type": "execute_result"
    },
    {
     "data": {
      "image/png": "[encoded data removed]",
      "text/plain": [
       "<Figure size 432x288 with 1 Axes>"
      ]
     },
     "metadata": {
      "needs_background": "light"
     },
     "output_type": "display_data"
    }
   ],
   "source": [
    "habitos_1.hist(\"Habitos_de_estudio\")"
   ]
  },
  {
   "cell_type": "code",
   "execution_count": 108,
   "metadata": {},
   "outputs": [],
   "source": [
    "habitos_2=habitos_1.drop(habitos_1[habitos_1['Habitos_de_estudio'] <=3 ].index)\n",
    "habitos_3=habitos_2.drop(habitos_2[habitos_2['Habitos_de_estudio'] ==4].index)\n",
    "habitos_4=habitos_3.drop(habitos_3[habitos_3['Habitos_de_estudio'] ==7].index)\n",
    "habitos_5=habitos_4.drop(habitos_4[habitos_4['Habitos_de_estudio'] ==8].index)"
   ]
  },
  {
   "cell_type": "code",
   "execution_count": 109,
   "metadata": {},
   "outputs": [
    {
     "data": {
      "text/plain": [
       "array([9, 6, 5])"
      ]
     },
     "execution_count": 109,
     "metadata": {},
     "output_type": "execute_result"
    }
   ],
   "source": [
    "habitos_5.Habitos_de_estudio.unique()"
   ]
  },
  {
   "cell_type": "code",
   "execution_count": 110,
   "metadata": {},
   "outputs": [
    {
     "data": {
      "text/html": [
       "<div>\n",
       "<style scoped>\n",
       "    .dataframe tbody tr th:only-of-type {\n",
       "        vertical-align: middle;\n",
       "    }\n",
       "\n",
       "    .dataframe tbody tr th {\n",
       "        vertical-align: top;\n",
       "    }\n",
       "\n",
       "    .dataframe thead th {\n",
       "        text-align: right;\n",
       "    }\n",
       "</style>\n",
       "<table border=\"1\" class=\"dataframe\">\n",
       "  <thead>\n",
       "    <tr style=\"text-align: right;\">\n",
       "      <th></th>\n",
       "      <th>Habitos_de_estudio</th>\n",
       "      <th>frecuency</th>\n",
       "    </tr>\n",
       "  </thead>\n",
       "  <tbody>\n",
       "    <tr>\n",
       "      <th>0</th>\n",
       "      <td>5</td>\n",
       "      <td>143</td>\n",
       "    </tr>\n",
       "    <tr>\n",
       "      <th>1</th>\n",
       "      <td>6</td>\n",
       "      <td>49</td>\n",
       "    </tr>\n",
       "    <tr>\n",
       "      <th>2</th>\n",
       "      <td>9</td>\n",
       "      <td>681</td>\n",
       "    </tr>\n",
       "  </tbody>\n",
       "</table>\n",
       "</div>"
      ],
      "text/plain": [
       "   Habitos_de_estudio  frecuency\n",
       "0                   5        143\n",
       "1                   6         49\n",
       "2                   9        681"
      ]
     },
     "execution_count": 110,
     "metadata": {},
     "output_type": "execute_result"
    }
   ],
   "source": [
    "freq_habitos = (habitos_5.groupby(\"Habitos_de_estudio\").agg(frecuency=(\"Habitos_de_estudio\", \"count\")).reset_index())\n",
    "freq_habitos"
   ]
  },
  {
   "cell_type": "code",
   "execution_count": 111,
   "metadata": {},
   "outputs": [
    {
     "data": {
      "text/plain": [
       "array([[<AxesSubplot:title={'center':'Habitos_de_estudio'}>]],\n",
       "      dtype=object)"
      ]
     },
     "execution_count": 111,
     "metadata": {},
     "output_type": "execute_result"
    },
    {
     "data": {
      "image/png": "[encoded data removed]",
      "text/plain": [
       "<Figure size 432x288 with 1 Axes>"
      ]
     },
     "metadata": {
      "needs_background": "light"
     },
     "output_type": "display_data"
    }
   ],
   "source": [
    "habitos_5.hist(\"Habitos_de_estudio\")"
   ]
  },
  {
   "cell_type": "code",
   "execution_count": 112,
   "metadata": {},
   "outputs": [
    {
     "data": {
      "text/plain": [
       "array(['CONDUCTAS PRODUCTIVAS ANTE EL ESTUDIO', 'CÓMO PREPARAR UN EXAMEN',\n",
       "       'CÓMO TOMAR NOTAS EN CLASE', 'DISTRACTORES DURANTE EL ESTUDIO',\n",
       "       'DISTRACTORES DURTANTE EL ESTUDIO', 'DISTRIBUCION DEL TIEMPO',\n",
       "       'DISTRIBUCIÓN DE TIEMPO', 'MOTIVACIÓN PARA EL ESTUDIO',\n",
       "       'OPTIMIZACIÓN DE LA LECTURA', 'nan'], dtype=object)"
      ]
     },
     "execution_count": 112,
     "metadata": {},
     "output_type": "execute_result"
    }
   ],
   "source": [
    "encoder.classes_"
   ]
  },
  {
   "cell_type": "code",
   "execution_count": 113,
   "metadata": {},
   "outputs": [],
   "source": [
    "import numpy as np\n",
    "import pandas as pd\n",
    "import matplotlib.pyplot as plt\n",
    "import seaborn as sns\n",
    "\n",
    "%matplotlib inline\n",
    "\n",
    "from sklearn.model_selection import train_test_split\n",
    "from sklearn.ensemble import RandomForestClassifier\n",
    "from sklearn.metrics import accuracy_score\n",
    "from sklearn.preprocessing import StandardScaler, MinMaxScaler\n",
    "\n",
    "\n",
    "from matplotlib import rcParams\n",
    "import warnings\n",
    "\n",
    "warnings.filterwarnings(\"ignore\")\n",
    "\n",
    "# tamaño de la figura en pulgadas\n",
    "rcParams[\"figure.figsize\"] = 10, 6\n",
    "np.random.seed(42)\n"
   ]
  },
  {
   "cell_type": "code",
   "execution_count": 114,
   "metadata": {},
   "outputs": [],
   "source": [
    "X = habitos_5.drop(\"Habitos_de_estudio\", axis=1)\n",
    "y = habitos_5[\"Habitos_de_estudio\"]"
   ]
  },
  {
   "cell_type": "code",
   "execution_count": 115,
   "metadata": {},
   "outputs": [],
   "source": [
    "# estandarizar el conjunto de datos\n",
    "scaler = StandardScaler()\n",
    "X_scaled = scaler.fit_transform(X)"
   ]
  },
  {
   "cell_type": "code",
   "execution_count": 116,
   "metadata": {},
   "outputs": [],
   "source": [
    "X_train, X_test_dev, y_train, y_test_dev = train_test_split(X, y, test_size=0.2)"
   ]
  },
  {
   "cell_type": "code",
   "execution_count": 117,
   "metadata": {},
   "outputs": [],
   "source": [
    "X_test, X_dev, y_test, y_dev = train_test_split(X, y, test_size=0.5)"
   ]
  },
  {
   "cell_type": "code",
   "execution_count": 118,
   "metadata": {},
   "outputs": [],
   "source": [
    "# crear el clasificador\n",
    "classifier1 = RandomForestClassifier(n_estimators=50)\n",
    "classifier2= RandomForestClassifier(n_estimators=100)\n",
    "classifier3= RandomForestClassifier(n_estimators=150)"
   ]
  },
  {
   "cell_type": "code",
   "execution_count": 119,
   "metadata": {},
   "outputs": [
    {
     "data": {
      "text/plain": [
       "RandomForestClassifier(n_estimators=50)"
      ]
     },
     "execution_count": 119,
     "metadata": {},
     "output_type": "execute_result"
    }
   ],
   "source": [
    "# Entrenar el modelo usando el conjunto de entranamiento\n",
    "classifier1.fit(X_train, y_train)"
   ]
  },
  {
   "cell_type": "code",
   "execution_count": 120,
   "metadata": {},
   "outputs": [
    {
     "data": {
      "text/plain": [
       "RandomForestClassifier()"
      ]
     },
     "execution_count": 120,
     "metadata": {},
     "output_type": "execute_result"
    }
   ],
   "source": [
    "classifier2.fit(X_train, y_train)"
   ]
  },
  {
   "cell_type": "code",
   "execution_count": 121,
   "metadata": {},
   "outputs": [
    {
     "data": {
      "text/plain": [
       "RandomForestClassifier(n_estimators=150)"
      ]
     },
     "execution_count": 121,
     "metadata": {},
     "output_type": "execute_result"
    }
   ],
   "source": [
    "classifier3.fit(X_train, y_train)"
   ]
  },
  {
   "cell_type": "code",
   "execution_count": 122,
   "metadata": {},
   "outputs": [],
   "source": [
    "# predicción en el conjunto de prueba\n",
    "y_pred1 = classifier1.predict(X_test_dev)\n",
    "y_pred2 = classifier2.predict(X_test_dev)\n",
    "y_pred3 = classifier3.predict(X_test_dev)\n",
    "#y_pred = classifier.predict(X_test)"
   ]
  },
  {
   "cell_type": "code",
   "execution_count": 123,
   "metadata": {},
   "outputs": [
    {
     "name": "stdout",
     "output_type": "stream",
     "text": [
      "Precisión: 0.9542857142857143\n",
      "Precisión: 0.9714285714285714\n",
      "Precisión: 0.9657142857142857\n"
     ]
    }
   ],
   "source": [
    "#print(\"Precisión:\", accuracy_score(y_test, y_pred))\n",
    "print(\"Precisión:\", accuracy_score(y_test_dev, y_pred1))\n",
    "print(\"Precisión:\", accuracy_score(y_test_dev, y_pred2))\n",
    "print(\"Precisión:\", accuracy_score(y_test_dev, y_pred3))"
   ]
  },
  {
   "cell_type": "code",
   "execution_count": 124,
   "metadata": {},
   "outputs": [
    {
     "data": {
      "text/plain": [
       "<AxesSubplot:>"
      ]
     },
     "execution_count": 124,
     "metadata": {},
     "output_type": "execute_result"
    },
    {
     "data": {
      "image/png": "[encoded data removed]",
      "text/plain": [
       "<Figure size 720x432 with 2 Axes>"
      ]
     },
     "metadata": {
      "needs_background": "light"
     },
     "output_type": "display_data"
    }
   ],
   "source": [
    "from sklearn.metrics import classification_report, confusion_matrix\n",
    "sns.heatmap(confusion_matrix(y_test_dev,y_pred1),annot= True)"
   ]
  },
  {
   "cell_type": "code",
   "execution_count": 125,
   "metadata": {},
   "outputs": [
    {
     "data": {
      "text/plain": [
       "<AxesSubplot:>"
      ]
     },
     "execution_count": 125,
     "metadata": {},
     "output_type": "execute_result"
    },
    {
     "data": {
      "image/png": "[encoded data removed]",
      "text/plain": [
       "<Figure size 720x432 with 2 Axes>"
      ]
     },
     "metadata": {
      "needs_background": "light"
     },
     "output_type": "display_data"
    }
   ],
   "source": [
    "sns.heatmap(confusion_matrix(y_test_dev,y_pred2),annot= True)"
   ]
  },
  {
   "cell_type": "code",
   "execution_count": 126,
   "metadata": {},
   "outputs": [
    {
     "data": {
      "text/plain": [
       "<AxesSubplot:>"
      ]
     },
     "execution_count": 126,
     "metadata": {},
     "output_type": "execute_result"
    },
    {
     "data": {
      "image/png": "[encoded data removed]",
      "text/plain": [
       "<Figure size 720x432 with 2 Axes>"
      ]
     },
     "metadata": {
      "needs_background": "light"
     },
     "output_type": "display_data"
    }
   ],
   "source": [
    "sns.heatmap(confusion_matrix(y_test_dev,y_pred3),annot= True)"
   ]
  },
  {
   "cell_type": "code",
   "execution_count": 127,
   "metadata": {},
   "outputs": [
    {
     "name": "stdout",
     "output_type": "stream",
     "text": [
      "              precision    recall  f1-score   support\n",
      "\n",
      "           5       0.86      0.86      0.86        29\n",
      "           6       1.00      1.00      1.00        10\n",
      "           9       0.97      0.97      0.97       136\n",
      "\n",
      "    accuracy                           0.95       175\n",
      "   macro avg       0.94      0.94      0.94       175\n",
      "weighted avg       0.95      0.95      0.95       175\n",
      "\n"
     ]
    }
   ],
   "source": [
    "print(classification_report(y_test_dev, y_pred1))"
   ]
  },
  {
   "cell_type": "code",
   "execution_count": 128,
   "metadata": {},
   "outputs": [
    {
     "name": "stdout",
     "output_type": "stream",
     "text": [
      "              precision    recall  f1-score   support\n",
      "\n",
      "           5       0.88      0.97      0.92        29\n",
      "           6       1.00      1.00      1.00        10\n",
      "           9       0.99      0.97      0.98       136\n",
      "\n",
      "    accuracy                           0.97       175\n",
      "   macro avg       0.96      0.98      0.97       175\n",
      "weighted avg       0.97      0.97      0.97       175\n",
      "\n"
     ]
    }
   ],
   "source": [
    "print(classification_report(y_test_dev, y_pred2))"
   ]
  },
  {
   "cell_type": "code",
   "execution_count": 129,
   "metadata": {},
   "outputs": [
    {
     "name": "stdout",
     "output_type": "stream",
     "text": [
      "              precision    recall  f1-score   support\n",
      "\n",
      "           5       0.87      0.93      0.90        29\n",
      "           6       1.00      1.00      1.00        10\n",
      "           9       0.99      0.97      0.98       136\n",
      "\n",
      "    accuracy                           0.97       175\n",
      "   macro avg       0.95      0.97      0.96       175\n",
      "weighted avg       0.97      0.97      0.97       175\n",
      "\n"
     ]
    }
   ],
   "source": [
    "print(classification_report(y_test_dev, y_pred3))"
   ]
  },
  {
   "cell_type": "code",
   "execution_count": 130,
   "metadata": {},
   "outputs": [],
   "source": [
    "from sklearn.svm import SVC\n",
    "#Crear un objeto Support Vector Machine\n",
    "svm= SVC()"
   ]
  },
  {
   "cell_type": "code",
   "execution_count": 131,
   "metadata": {},
   "outputs": [
    {
     "data": {
      "text/plain": [
       "SVC()"
      ]
     },
     "execution_count": 131,
     "metadata": {},
     "output_type": "execute_result"
    }
   ],
   "source": [
    "#Fit the model to the train set\n",
    "svm.fit(X_train, y_train)"
   ]
  },
  {
   "cell_type": "code",
   "execution_count": 132,
   "metadata": {},
   "outputs": [],
   "source": [
    "y_pred= svm.predict(X_test_dev)"
   ]
  },
  {
   "cell_type": "code",
   "execution_count": 133,
   "metadata": {},
   "outputs": [
    {
     "name": "stdout",
     "output_type": "stream",
     "text": [
      "[5 9 9 5 6 9 5 9 9 5 9 9 6 9 9 9 9 6 9 9 9 9 9 9 9 9 9 9 9 9 5 9 9 5 5 9 9\n",
      " 9 9 5 9 9 5 9 9 9 9 9 9 9 5 5 9 9 9 9 9 9 9 9 9 9 9 9 9 9 9 9 9 9 5 9 9 9\n",
      " 9 9 9 9 9 9 9 9 6 9 5 9 9 5 6 9 9 9 9 9 9 9 9 5 9 9 5 5 9 9 9 5 5 9 9 5 6\n",
      " 9 5 9 5 9 9 9 9 9 9 5 9 5 9 9 9 5 6 6 9 9 9 9 9 5 9 9 5 9 9 6 9 9 9 9 9 9\n",
      " 9 9 5 9 5 5 5 6 9 9 9 9 9 9 9 9 5 9 9 5 9 9 9 9 9 5 9]\n"
     ]
    }
   ],
   "source": [
    "print(y_pred)"
   ]
  },
  {
   "cell_type": "code",
   "execution_count": 134,
   "metadata": {},
   "outputs": [
    {
     "data": {
      "image/png": "[encoded data removed]",
      "text/plain": [
       "<Figure size 720x432 with 1 Axes>"
      ]
     },
     "metadata": {
      "needs_background": "light"
     },
     "output_type": "display_data"
    }
   ],
   "source": [
    "plt.bar(y_test_dev, y_test_dev)\n",
    "#plt.plot (X_test, y_pred, color ='red', linewifth=3)\n",
    "plt.show()"
   ]
  },
  {
   "cell_type": "code",
   "execution_count": 135,
   "metadata": {},
   "outputs": [
    {
     "name": "stdout",
     "output_type": "stream",
     "text": [
      "Datos del modelo support vector machine\n",
      "\n",
      "Precisión: 0.9714285714285714\n"
     ]
    }
   ],
   "source": [
    "print(\"Datos del modelo support vector machine\")\n",
    "print()\n",
    "print(\"Precisión:\", accuracy_score(y_test_dev, y_pred))"
   ]
  },
  {
   "cell_type": "code",
   "execution_count": 136,
   "metadata": {},
   "outputs": [
    {
     "data": {
      "text/plain": [
       "<AxesSubplot:>"
      ]
     },
     "execution_count": 136,
     "metadata": {},
     "output_type": "execute_result"
    },
    {
     "data": {
      "image/png": "[encoded data removed]",
      "text/plain": [
       "<Figure size 720x432 with 2 Axes>"
      ]
     },
     "metadata": {
      "needs_background": "light"
     },
     "output_type": "display_data"
    }
   ],
   "source": [
    "sns.heatmap(confusion_matrix(y_test_dev,y_pred),annot= True)"
   ]
  },
  {
   "cell_type": "code",
   "execution_count": 137,
   "metadata": {},
   "outputs": [
    {
     "name": "stdout",
     "output_type": "stream",
     "text": [
      "              precision    recall  f1-score   support\n",
      "\n",
      "           5       0.85      1.00      0.92        29\n",
      "           6       1.00      1.00      1.00        10\n",
      "           9       1.00      0.96      0.98       136\n",
      "\n",
      "    accuracy                           0.97       175\n",
      "   macro avg       0.95      0.99      0.97       175\n",
      "weighted avg       0.98      0.97      0.97       175\n",
      "\n"
     ]
    }
   ],
   "source": [
    "print(classification_report(y_test_dev, y_pred))"
   ]
  },
  {
   "cell_type": "markdown",
   "metadata": {},
   "source": [
    " "
   ]
  }
 ],
 "metadata": {
  "kernelspec": {
   "display_name": "Python 3",
   "language": "python",
   "name": "python3"
  },
  "language_info": {
   "codemirror_mode": {
    "name": "ipython",
    "version": 3
   },
   "file_extension": ".py",
   "mimetype": "text/x-python",
   "name": "python",
   "nbconvert_exporter": "python",
   "pygments_lexer": "ipython3",
   "version": "3.8.5"
  }
 },
 "nbformat": 4,
 "nbformat_minor": 4
}
